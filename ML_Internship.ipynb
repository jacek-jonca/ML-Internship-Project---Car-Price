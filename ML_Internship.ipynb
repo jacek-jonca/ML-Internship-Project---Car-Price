{
  "nbformat": 4,
  "nbformat_minor": 0,
  "metadata": {
    "kernelspec": {
      "display_name": "Python 3",
      "language": "python",
      "name": "python3"
    },
    "language_info": {
      "codemirror_mode": {
        "name": "ipython",
        "version": 3
      },
      "file_extension": ".py",
      "mimetype": "text/x-python",
      "name": "python",
      "nbconvert_exporter": "python",
      "pygments_lexer": "ipython3",
      "version": "3.7.7"
    },
    "colab": {
      "name": "ML Internship.ipynb",
      "provenance": [],
      "collapsed_sections": [
        "gIyZot6Bwn9S",
        "WZW5QTp9wn9t",
        "OGwtd6Glwn9v",
        "xIbV90qlwn90",
        "fUO_Q9k0wn98",
        "QuQevbnjyBrw",
        "vAytucX2wn-P",
        "lmos4frTwn-U",
        "NmT-ptzzwn-l",
        "YMS_I3iwwn-q",
        "kRyaFiiqwn-u",
        "KIHvbIkSwn-v",
        "3c1mkGNOyZ7f",
        "ltpu9hjOwn-y",
        "2E3gtVzHwn-y",
        "5ghPJwVmwn-2",
        "FaQlyO7swn-2",
        "m0ex-rXbwn-6",
        "a66yRPFQwn-6",
        "lG5A7Jf8wn-9",
        "CNz3PoXWwn--",
        "AdX4h6qAwn_A",
        "5LsE9Y90wn_A",
        "YzIosyzrwn_D",
        "Bb7IeiIMwn_D",
        "dlnLE3rOwn_I",
        "rMqYmGhJwn_I",
        "GAdWDV8Dwn_M",
        "3tjy2w-Ewn_M",
        "SldPAUQOwn_O",
        "JR6poDLzwn_P",
        "-_YHXTzMwn_S",
        "JxTYp7C0wn_S",
        "fKVhKuYKwn_V",
        "amyC7kgHwn_W",
        "1y3Gplu9zKo7",
        "hvTrNHnCTl8o"
      ],
      "toc_visible": true
    }
  },
  "cells": [
    {
      "cell_type": "markdown",
      "metadata": {
        "id": "gIyZot6Bwn9S",
        "colab_type": "text"
      },
      "source": [
        "# Step 1 - Importing Libraries and Dataset and Viewing its Details"
      ]
    },
    {
      "cell_type": "markdown",
      "metadata": {
        "id": "a81NK6_5wn9T",
        "colab_type": "text"
      },
      "source": [
        "### 1.1 Importing Libraries"
      ]
    },
    {
      "cell_type": "code",
      "metadata": {
        "id": "FK04t2_Rwn9U",
        "colab_type": "code",
        "colab": {
          "base_uri": "https://localhost:8080/",
          "height": 0
        },
        "outputId": "87dc020a-3cbc-44fd-a66b-cf6bfddf8dad"
      },
      "source": [
        "import numpy as np\n",
        "import pandas as pd\n",
        "import matplotlib.pyplot as plt\n",
        "import seaborn as sns"
      ],
      "execution_count": 1,
      "outputs": [
        {
          "output_type": "stream",
          "text": [
            "/usr/local/lib/python3.6/dist-packages/statsmodels/tools/_testing.py:19: FutureWarning: pandas.util.testing is deprecated. Use the functions in the public API at pandas.testing instead.\n",
            "  import pandas.util.testing as tm\n"
          ],
          "name": "stderr"
        }
      ]
    },
    {
      "cell_type": "markdown",
      "metadata": {
        "id": "c6etuOGNwn9Y",
        "colab_type": "text"
      },
      "source": [
        "### 1.2 Reading Dataset"
      ]
    },
    {
      "cell_type": "code",
      "metadata": {
        "id": "PEDOAsIXwn9Y",
        "colab_type": "code",
        "colab": {}
      },
      "source": [
        "data = pd.read_csv(\"data.csv\")"
      ],
      "execution_count": 2,
      "outputs": []
    },
    {
      "cell_type": "markdown",
      "metadata": {
        "id": "WYnX5xawwn9b",
        "colab_type": "text"
      },
      "source": [
        "### 1.3 Viewing the top 5 rows of the data using head()"
      ]
    },
    {
      "cell_type": "code",
      "metadata": {
        "id": "FktmcWJuwn9c",
        "colab_type": "code",
        "colab": {
          "base_uri": "https://localhost:8080/",
          "height": 0
        },
        "outputId": "048f73bc-a9df-419e-de2d-2fa576978a9b"
      },
      "source": [
        "data.head()"
      ],
      "execution_count": 3,
      "outputs": [
        {
          "output_type": "execute_result",
          "data": {
            "text/html": [
              "<div>\n",
              "<style scoped>\n",
              "    .dataframe tbody tr th:only-of-type {\n",
              "        vertical-align: middle;\n",
              "    }\n",
              "\n",
              "    .dataframe tbody tr th {\n",
              "        vertical-align: top;\n",
              "    }\n",
              "\n",
              "    .dataframe thead th {\n",
              "        text-align: right;\n",
              "    }\n",
              "</style>\n",
              "<table border=\"1\" class=\"dataframe\">\n",
              "  <thead>\n",
              "    <tr style=\"text-align: right;\">\n",
              "      <th></th>\n",
              "      <th>Make</th>\n",
              "      <th>Model</th>\n",
              "      <th>Year</th>\n",
              "      <th>Engine Fuel Type</th>\n",
              "      <th>Engine HP</th>\n",
              "      <th>Engine Cylinders</th>\n",
              "      <th>Transmission Type</th>\n",
              "      <th>Driven_Wheels</th>\n",
              "      <th>Number of Doors</th>\n",
              "      <th>Market Category</th>\n",
              "      <th>Vehicle Size</th>\n",
              "      <th>Vehicle Style</th>\n",
              "      <th>highway MPG</th>\n",
              "      <th>city mpg</th>\n",
              "      <th>Popularity</th>\n",
              "      <th>MSRP</th>\n",
              "    </tr>\n",
              "  </thead>\n",
              "  <tbody>\n",
              "    <tr>\n",
              "      <th>0</th>\n",
              "      <td>BMW</td>\n",
              "      <td>1 Series M</td>\n",
              "      <td>2011</td>\n",
              "      <td>premium unleaded (required)</td>\n",
              "      <td>335.0</td>\n",
              "      <td>6.0</td>\n",
              "      <td>MANUAL</td>\n",
              "      <td>rear wheel drive</td>\n",
              "      <td>2.0</td>\n",
              "      <td>Factory Tuner,Luxury,High-Performance</td>\n",
              "      <td>Compact</td>\n",
              "      <td>Coupe</td>\n",
              "      <td>26</td>\n",
              "      <td>19</td>\n",
              "      <td>3916</td>\n",
              "      <td>46135</td>\n",
              "    </tr>\n",
              "    <tr>\n",
              "      <th>1</th>\n",
              "      <td>BMW</td>\n",
              "      <td>1 Series</td>\n",
              "      <td>2011</td>\n",
              "      <td>premium unleaded (required)</td>\n",
              "      <td>300.0</td>\n",
              "      <td>6.0</td>\n",
              "      <td>MANUAL</td>\n",
              "      <td>rear wheel drive</td>\n",
              "      <td>2.0</td>\n",
              "      <td>Luxury,Performance</td>\n",
              "      <td>Compact</td>\n",
              "      <td>Convertible</td>\n",
              "      <td>28</td>\n",
              "      <td>19</td>\n",
              "      <td>3916</td>\n",
              "      <td>40650</td>\n",
              "    </tr>\n",
              "    <tr>\n",
              "      <th>2</th>\n",
              "      <td>BMW</td>\n",
              "      <td>1 Series</td>\n",
              "      <td>2011</td>\n",
              "      <td>premium unleaded (required)</td>\n",
              "      <td>300.0</td>\n",
              "      <td>6.0</td>\n",
              "      <td>MANUAL</td>\n",
              "      <td>rear wheel drive</td>\n",
              "      <td>2.0</td>\n",
              "      <td>Luxury,High-Performance</td>\n",
              "      <td>Compact</td>\n",
              "      <td>Coupe</td>\n",
              "      <td>28</td>\n",
              "      <td>20</td>\n",
              "      <td>3916</td>\n",
              "      <td>36350</td>\n",
              "    </tr>\n",
              "    <tr>\n",
              "      <th>3</th>\n",
              "      <td>BMW</td>\n",
              "      <td>1 Series</td>\n",
              "      <td>2011</td>\n",
              "      <td>premium unleaded (required)</td>\n",
              "      <td>230.0</td>\n",
              "      <td>6.0</td>\n",
              "      <td>MANUAL</td>\n",
              "      <td>rear wheel drive</td>\n",
              "      <td>2.0</td>\n",
              "      <td>Luxury,Performance</td>\n",
              "      <td>Compact</td>\n",
              "      <td>Coupe</td>\n",
              "      <td>28</td>\n",
              "      <td>18</td>\n",
              "      <td>3916</td>\n",
              "      <td>29450</td>\n",
              "    </tr>\n",
              "    <tr>\n",
              "      <th>4</th>\n",
              "      <td>BMW</td>\n",
              "      <td>1 Series</td>\n",
              "      <td>2011</td>\n",
              "      <td>premium unleaded (required)</td>\n",
              "      <td>230.0</td>\n",
              "      <td>6.0</td>\n",
              "      <td>MANUAL</td>\n",
              "      <td>rear wheel drive</td>\n",
              "      <td>2.0</td>\n",
              "      <td>Luxury</td>\n",
              "      <td>Compact</td>\n",
              "      <td>Convertible</td>\n",
              "      <td>28</td>\n",
              "      <td>18</td>\n",
              "      <td>3916</td>\n",
              "      <td>34500</td>\n",
              "    </tr>\n",
              "  </tbody>\n",
              "</table>\n",
              "</div>"
            ],
            "text/plain": [
              "  Make       Model  Year  ... city mpg  Popularity   MSRP\n",
              "0  BMW  1 Series M  2011  ...       19        3916  46135\n",
              "1  BMW    1 Series  2011  ...       19        3916  40650\n",
              "2  BMW    1 Series  2011  ...       20        3916  36350\n",
              "3  BMW    1 Series  2011  ...       18        3916  29450\n",
              "4  BMW    1 Series  2011  ...       18        3916  34500\n",
              "\n",
              "[5 rows x 16 columns]"
            ]
          },
          "metadata": {
            "tags": []
          },
          "execution_count": 3
        }
      ]
    },
    {
      "cell_type": "markdown",
      "metadata": {
        "id": "MhV-CjNMwn9e",
        "colab_type": "text"
      },
      "source": [
        "### 1.4 Viewing the bottom 5 rows of the data using tail()"
      ]
    },
    {
      "cell_type": "code",
      "metadata": {
        "id": "sJ1rt8HMwn9f",
        "colab_type": "code",
        "colab": {
          "base_uri": "https://localhost:8080/",
          "height": 0
        },
        "outputId": "5ac7bd63-9294-4590-f699-467a99f801de"
      },
      "source": [
        "data.tail()"
      ],
      "execution_count": 4,
      "outputs": [
        {
          "output_type": "execute_result",
          "data": {
            "text/html": [
              "<div>\n",
              "<style scoped>\n",
              "    .dataframe tbody tr th:only-of-type {\n",
              "        vertical-align: middle;\n",
              "    }\n",
              "\n",
              "    .dataframe tbody tr th {\n",
              "        vertical-align: top;\n",
              "    }\n",
              "\n",
              "    .dataframe thead th {\n",
              "        text-align: right;\n",
              "    }\n",
              "</style>\n",
              "<table border=\"1\" class=\"dataframe\">\n",
              "  <thead>\n",
              "    <tr style=\"text-align: right;\">\n",
              "      <th></th>\n",
              "      <th>Make</th>\n",
              "      <th>Model</th>\n",
              "      <th>Year</th>\n",
              "      <th>Engine Fuel Type</th>\n",
              "      <th>Engine HP</th>\n",
              "      <th>Engine Cylinders</th>\n",
              "      <th>Transmission Type</th>\n",
              "      <th>Driven_Wheels</th>\n",
              "      <th>Number of Doors</th>\n",
              "      <th>Market Category</th>\n",
              "      <th>Vehicle Size</th>\n",
              "      <th>Vehicle Style</th>\n",
              "      <th>highway MPG</th>\n",
              "      <th>city mpg</th>\n",
              "      <th>Popularity</th>\n",
              "      <th>MSRP</th>\n",
              "    </tr>\n",
              "  </thead>\n",
              "  <tbody>\n",
              "    <tr>\n",
              "      <th>11909</th>\n",
              "      <td>Acura</td>\n",
              "      <td>ZDX</td>\n",
              "      <td>2012</td>\n",
              "      <td>premium unleaded (required)</td>\n",
              "      <td>300.0</td>\n",
              "      <td>6.0</td>\n",
              "      <td>AUTOMATIC</td>\n",
              "      <td>all wheel drive</td>\n",
              "      <td>4.0</td>\n",
              "      <td>Crossover,Hatchback,Luxury</td>\n",
              "      <td>Midsize</td>\n",
              "      <td>4dr Hatchback</td>\n",
              "      <td>23</td>\n",
              "      <td>16</td>\n",
              "      <td>204</td>\n",
              "      <td>46120</td>\n",
              "    </tr>\n",
              "    <tr>\n",
              "      <th>11910</th>\n",
              "      <td>Acura</td>\n",
              "      <td>ZDX</td>\n",
              "      <td>2012</td>\n",
              "      <td>premium unleaded (required)</td>\n",
              "      <td>300.0</td>\n",
              "      <td>6.0</td>\n",
              "      <td>AUTOMATIC</td>\n",
              "      <td>all wheel drive</td>\n",
              "      <td>4.0</td>\n",
              "      <td>Crossover,Hatchback,Luxury</td>\n",
              "      <td>Midsize</td>\n",
              "      <td>4dr Hatchback</td>\n",
              "      <td>23</td>\n",
              "      <td>16</td>\n",
              "      <td>204</td>\n",
              "      <td>56670</td>\n",
              "    </tr>\n",
              "    <tr>\n",
              "      <th>11911</th>\n",
              "      <td>Acura</td>\n",
              "      <td>ZDX</td>\n",
              "      <td>2012</td>\n",
              "      <td>premium unleaded (required)</td>\n",
              "      <td>300.0</td>\n",
              "      <td>6.0</td>\n",
              "      <td>AUTOMATIC</td>\n",
              "      <td>all wheel drive</td>\n",
              "      <td>4.0</td>\n",
              "      <td>Crossover,Hatchback,Luxury</td>\n",
              "      <td>Midsize</td>\n",
              "      <td>4dr Hatchback</td>\n",
              "      <td>23</td>\n",
              "      <td>16</td>\n",
              "      <td>204</td>\n",
              "      <td>50620</td>\n",
              "    </tr>\n",
              "    <tr>\n",
              "      <th>11912</th>\n",
              "      <td>Acura</td>\n",
              "      <td>ZDX</td>\n",
              "      <td>2013</td>\n",
              "      <td>premium unleaded (recommended)</td>\n",
              "      <td>300.0</td>\n",
              "      <td>6.0</td>\n",
              "      <td>AUTOMATIC</td>\n",
              "      <td>all wheel drive</td>\n",
              "      <td>4.0</td>\n",
              "      <td>Crossover,Hatchback,Luxury</td>\n",
              "      <td>Midsize</td>\n",
              "      <td>4dr Hatchback</td>\n",
              "      <td>23</td>\n",
              "      <td>16</td>\n",
              "      <td>204</td>\n",
              "      <td>50920</td>\n",
              "    </tr>\n",
              "    <tr>\n",
              "      <th>11913</th>\n",
              "      <td>Lincoln</td>\n",
              "      <td>Zephyr</td>\n",
              "      <td>2006</td>\n",
              "      <td>regular unleaded</td>\n",
              "      <td>221.0</td>\n",
              "      <td>6.0</td>\n",
              "      <td>AUTOMATIC</td>\n",
              "      <td>front wheel drive</td>\n",
              "      <td>4.0</td>\n",
              "      <td>Luxury</td>\n",
              "      <td>Midsize</td>\n",
              "      <td>Sedan</td>\n",
              "      <td>26</td>\n",
              "      <td>17</td>\n",
              "      <td>61</td>\n",
              "      <td>28995</td>\n",
              "    </tr>\n",
              "  </tbody>\n",
              "</table>\n",
              "</div>"
            ],
            "text/plain": [
              "          Make   Model  Year  ... city mpg  Popularity   MSRP\n",
              "11909    Acura     ZDX  2012  ...       16         204  46120\n",
              "11910    Acura     ZDX  2012  ...       16         204  56670\n",
              "11911    Acura     ZDX  2012  ...       16         204  50620\n",
              "11912    Acura     ZDX  2013  ...       16         204  50920\n",
              "11913  Lincoln  Zephyr  2006  ...       17          61  28995\n",
              "\n",
              "[5 rows x 16 columns]"
            ]
          },
          "metadata": {
            "tags": []
          },
          "execution_count": 4
        }
      ]
    },
    {
      "cell_type": "markdown",
      "metadata": {
        "id": "ns-_AmBiwn9h",
        "colab_type": "text"
      },
      "source": [
        "### 1.5 Getting all details of the dataset"
      ]
    },
    {
      "cell_type": "code",
      "metadata": {
        "id": "w1AvYfuLwn9h",
        "colab_type": "code",
        "colab": {
          "base_uri": "https://localhost:8080/",
          "height": 0
        },
        "outputId": "93d6dad1-7d79-4d21-df63-eb9e0220d8ea"
      },
      "source": [
        "data.info()"
      ],
      "execution_count": 5,
      "outputs": [
        {
          "output_type": "stream",
          "text": [
            "<class 'pandas.core.frame.DataFrame'>\n",
            "RangeIndex: 11914 entries, 0 to 11913\n",
            "Data columns (total 16 columns):\n",
            " #   Column             Non-Null Count  Dtype  \n",
            "---  ------             --------------  -----  \n",
            " 0   Make               11914 non-null  object \n",
            " 1   Model              11914 non-null  object \n",
            " 2   Year               11914 non-null  int64  \n",
            " 3   Engine Fuel Type   11911 non-null  object \n",
            " 4   Engine HP          11845 non-null  float64\n",
            " 5   Engine Cylinders   11884 non-null  float64\n",
            " 6   Transmission Type  11914 non-null  object \n",
            " 7   Driven_Wheels      11914 non-null  object \n",
            " 8   Number of Doors    11908 non-null  float64\n",
            " 9   Market Category    8172 non-null   object \n",
            " 10  Vehicle Size       11914 non-null  object \n",
            " 11  Vehicle Style      11914 non-null  object \n",
            " 12  highway MPG        11914 non-null  int64  \n",
            " 13  city mpg           11914 non-null  int64  \n",
            " 14  Popularity         11914 non-null  int64  \n",
            " 15  MSRP               11914 non-null  int64  \n",
            "dtypes: float64(3), int64(5), object(8)\n",
            "memory usage: 1.5+ MB\n"
          ],
          "name": "stdout"
        }
      ]
    },
    {
      "cell_type": "markdown",
      "metadata": {
        "id": "fsvy28HIwn9k",
        "colab_type": "text"
      },
      "source": [
        "### 1.6 Getting Statistical Summary of the dataset"
      ]
    },
    {
      "cell_type": "code",
      "metadata": {
        "id": "wO53LRaWwn9k",
        "colab_type": "code",
        "colab": {
          "base_uri": "https://localhost:8080/",
          "height": 0
        },
        "outputId": "36ad259c-d167-4c95-e831-b3294d423c2c"
      },
      "source": [
        "data.describe()"
      ],
      "execution_count": 6,
      "outputs": [
        {
          "output_type": "execute_result",
          "data": {
            "text/html": [
              "<div>\n",
              "<style scoped>\n",
              "    .dataframe tbody tr th:only-of-type {\n",
              "        vertical-align: middle;\n",
              "    }\n",
              "\n",
              "    .dataframe tbody tr th {\n",
              "        vertical-align: top;\n",
              "    }\n",
              "\n",
              "    .dataframe thead th {\n",
              "        text-align: right;\n",
              "    }\n",
              "</style>\n",
              "<table border=\"1\" class=\"dataframe\">\n",
              "  <thead>\n",
              "    <tr style=\"text-align: right;\">\n",
              "      <th></th>\n",
              "      <th>Year</th>\n",
              "      <th>Engine HP</th>\n",
              "      <th>Engine Cylinders</th>\n",
              "      <th>Number of Doors</th>\n",
              "      <th>highway MPG</th>\n",
              "      <th>city mpg</th>\n",
              "      <th>Popularity</th>\n",
              "      <th>MSRP</th>\n",
              "    </tr>\n",
              "  </thead>\n",
              "  <tbody>\n",
              "    <tr>\n",
              "      <th>count</th>\n",
              "      <td>11914.000000</td>\n",
              "      <td>11845.00000</td>\n",
              "      <td>11884.000000</td>\n",
              "      <td>11908.000000</td>\n",
              "      <td>11914.000000</td>\n",
              "      <td>11914.000000</td>\n",
              "      <td>11914.000000</td>\n",
              "      <td>1.191400e+04</td>\n",
              "    </tr>\n",
              "    <tr>\n",
              "      <th>mean</th>\n",
              "      <td>2010.384338</td>\n",
              "      <td>249.38607</td>\n",
              "      <td>5.628829</td>\n",
              "      <td>3.436093</td>\n",
              "      <td>26.637485</td>\n",
              "      <td>19.733255</td>\n",
              "      <td>1554.911197</td>\n",
              "      <td>4.059474e+04</td>\n",
              "    </tr>\n",
              "    <tr>\n",
              "      <th>std</th>\n",
              "      <td>7.579740</td>\n",
              "      <td>109.19187</td>\n",
              "      <td>1.780559</td>\n",
              "      <td>0.881315</td>\n",
              "      <td>8.863001</td>\n",
              "      <td>8.987798</td>\n",
              "      <td>1441.855347</td>\n",
              "      <td>6.010910e+04</td>\n",
              "    </tr>\n",
              "    <tr>\n",
              "      <th>min</th>\n",
              "      <td>1990.000000</td>\n",
              "      <td>55.00000</td>\n",
              "      <td>0.000000</td>\n",
              "      <td>2.000000</td>\n",
              "      <td>12.000000</td>\n",
              "      <td>7.000000</td>\n",
              "      <td>2.000000</td>\n",
              "      <td>2.000000e+03</td>\n",
              "    </tr>\n",
              "    <tr>\n",
              "      <th>25%</th>\n",
              "      <td>2007.000000</td>\n",
              "      <td>170.00000</td>\n",
              "      <td>4.000000</td>\n",
              "      <td>2.000000</td>\n",
              "      <td>22.000000</td>\n",
              "      <td>16.000000</td>\n",
              "      <td>549.000000</td>\n",
              "      <td>2.100000e+04</td>\n",
              "    </tr>\n",
              "    <tr>\n",
              "      <th>50%</th>\n",
              "      <td>2015.000000</td>\n",
              "      <td>227.00000</td>\n",
              "      <td>6.000000</td>\n",
              "      <td>4.000000</td>\n",
              "      <td>26.000000</td>\n",
              "      <td>18.000000</td>\n",
              "      <td>1385.000000</td>\n",
              "      <td>2.999500e+04</td>\n",
              "    </tr>\n",
              "    <tr>\n",
              "      <th>75%</th>\n",
              "      <td>2016.000000</td>\n",
              "      <td>300.00000</td>\n",
              "      <td>6.000000</td>\n",
              "      <td>4.000000</td>\n",
              "      <td>30.000000</td>\n",
              "      <td>22.000000</td>\n",
              "      <td>2009.000000</td>\n",
              "      <td>4.223125e+04</td>\n",
              "    </tr>\n",
              "    <tr>\n",
              "      <th>max</th>\n",
              "      <td>2017.000000</td>\n",
              "      <td>1001.00000</td>\n",
              "      <td>16.000000</td>\n",
              "      <td>4.000000</td>\n",
              "      <td>354.000000</td>\n",
              "      <td>137.000000</td>\n",
              "      <td>5657.000000</td>\n",
              "      <td>2.065902e+06</td>\n",
              "    </tr>\n",
              "  </tbody>\n",
              "</table>\n",
              "</div>"
            ],
            "text/plain": [
              "               Year    Engine HP  ...    Popularity          MSRP\n",
              "count  11914.000000  11845.00000  ...  11914.000000  1.191400e+04\n",
              "mean    2010.384338    249.38607  ...   1554.911197  4.059474e+04\n",
              "std        7.579740    109.19187  ...   1441.855347  6.010910e+04\n",
              "min     1990.000000     55.00000  ...      2.000000  2.000000e+03\n",
              "25%     2007.000000    170.00000  ...    549.000000  2.100000e+04\n",
              "50%     2015.000000    227.00000  ...   1385.000000  2.999500e+04\n",
              "75%     2016.000000    300.00000  ...   2009.000000  4.223125e+04\n",
              "max     2017.000000   1001.00000  ...   5657.000000  2.065902e+06\n",
              "\n",
              "[8 rows x 8 columns]"
            ]
          },
          "metadata": {
            "tags": []
          },
          "execution_count": 6
        }
      ]
    },
    {
      "cell_type": "markdown",
      "metadata": {
        "id": "cBJAgXIzwn9n",
        "colab_type": "text"
      },
      "source": [
        "### 1.7 Checking the shape of the dataset"
      ]
    },
    {
      "cell_type": "code",
      "metadata": {
        "id": "_11wxM56wn9o",
        "colab_type": "code",
        "colab": {
          "base_uri": "https://localhost:8080/",
          "height": 0
        },
        "outputId": "f49a86fe-4e8b-4ea5-afd1-6f65ea34c7fb"
      },
      "source": [
        "data.shape"
      ],
      "execution_count": 7,
      "outputs": [
        {
          "output_type": "execute_result",
          "data": {
            "text/plain": [
              "(11914, 16)"
            ]
          },
          "metadata": {
            "tags": []
          },
          "execution_count": 7
        }
      ]
    },
    {
      "cell_type": "markdown",
      "metadata": {
        "id": "ULTeTP1kwn9q",
        "colab_type": "text"
      },
      "source": [
        "### 1.8 Checking for null values in the dataset"
      ]
    },
    {
      "cell_type": "code",
      "metadata": {
        "id": "OlDr9Ezuwn9r",
        "colab_type": "code",
        "colab": {
          "base_uri": "https://localhost:8080/",
          "height": 0
        },
        "outputId": "f001ee67-4c7b-426e-d9a2-b3aea78e6117"
      },
      "source": [
        "data.isnull().sum()"
      ],
      "execution_count": 8,
      "outputs": [
        {
          "output_type": "execute_result",
          "data": {
            "text/plain": [
              "Make                    0\n",
              "Model                   0\n",
              "Year                    0\n",
              "Engine Fuel Type        3\n",
              "Engine HP              69\n",
              "Engine Cylinders       30\n",
              "Transmission Type       0\n",
              "Driven_Wheels           0\n",
              "Number of Doors         6\n",
              "Market Category      3742\n",
              "Vehicle Size            0\n",
              "Vehicle Style           0\n",
              "highway MPG             0\n",
              "city mpg                0\n",
              "Popularity              0\n",
              "MSRP                    0\n",
              "dtype: int64"
            ]
          },
          "metadata": {
            "tags": []
          },
          "execution_count": 8
        }
      ]
    },
    {
      "cell_type": "markdown",
      "metadata": {
        "id": "WZW5QTp9wn9t",
        "colab_type": "text"
      },
      "source": [
        "# Step 2 - Dropping Irrelevent Columns"
      ]
    },
    {
      "cell_type": "markdown",
      "metadata": {
        "id": "vBrCsV8zxL3i",
        "colab_type": "text"
      },
      "source": [
        "### Dropping 'Market Category' Column \n",
        "We drop the 'Market Category' column as there are too many null values in that column and it does not impact the outcome of the Machine Learning model due to its irrelevance"
      ]
    },
    {
      "cell_type": "code",
      "metadata": {
        "id": "guY3avzHwn9t",
        "colab_type": "code",
        "colab": {
          "base_uri": "https://localhost:8080/",
          "height": 0
        },
        "outputId": "c3172e89-e451-42c8-ed1e-0f70e4fde263"
      },
      "source": [
        "data = data.drop(['Market Category'], axis=1)\n",
        "data.head()"
      ],
      "execution_count": 9,
      "outputs": [
        {
          "output_type": "execute_result",
          "data": {
            "text/html": [
              "<div>\n",
              "<style scoped>\n",
              "    .dataframe tbody tr th:only-of-type {\n",
              "        vertical-align: middle;\n",
              "    }\n",
              "\n",
              "    .dataframe tbody tr th {\n",
              "        vertical-align: top;\n",
              "    }\n",
              "\n",
              "    .dataframe thead th {\n",
              "        text-align: right;\n",
              "    }\n",
              "</style>\n",
              "<table border=\"1\" class=\"dataframe\">\n",
              "  <thead>\n",
              "    <tr style=\"text-align: right;\">\n",
              "      <th></th>\n",
              "      <th>Make</th>\n",
              "      <th>Model</th>\n",
              "      <th>Year</th>\n",
              "      <th>Engine Fuel Type</th>\n",
              "      <th>Engine HP</th>\n",
              "      <th>Engine Cylinders</th>\n",
              "      <th>Transmission Type</th>\n",
              "      <th>Driven_Wheels</th>\n",
              "      <th>Number of Doors</th>\n",
              "      <th>Vehicle Size</th>\n",
              "      <th>Vehicle Style</th>\n",
              "      <th>highway MPG</th>\n",
              "      <th>city mpg</th>\n",
              "      <th>Popularity</th>\n",
              "      <th>MSRP</th>\n",
              "    </tr>\n",
              "  </thead>\n",
              "  <tbody>\n",
              "    <tr>\n",
              "      <th>0</th>\n",
              "      <td>BMW</td>\n",
              "      <td>1 Series M</td>\n",
              "      <td>2011</td>\n",
              "      <td>premium unleaded (required)</td>\n",
              "      <td>335.0</td>\n",
              "      <td>6.0</td>\n",
              "      <td>MANUAL</td>\n",
              "      <td>rear wheel drive</td>\n",
              "      <td>2.0</td>\n",
              "      <td>Compact</td>\n",
              "      <td>Coupe</td>\n",
              "      <td>26</td>\n",
              "      <td>19</td>\n",
              "      <td>3916</td>\n",
              "      <td>46135</td>\n",
              "    </tr>\n",
              "    <tr>\n",
              "      <th>1</th>\n",
              "      <td>BMW</td>\n",
              "      <td>1 Series</td>\n",
              "      <td>2011</td>\n",
              "      <td>premium unleaded (required)</td>\n",
              "      <td>300.0</td>\n",
              "      <td>6.0</td>\n",
              "      <td>MANUAL</td>\n",
              "      <td>rear wheel drive</td>\n",
              "      <td>2.0</td>\n",
              "      <td>Compact</td>\n",
              "      <td>Convertible</td>\n",
              "      <td>28</td>\n",
              "      <td>19</td>\n",
              "      <td>3916</td>\n",
              "      <td>40650</td>\n",
              "    </tr>\n",
              "    <tr>\n",
              "      <th>2</th>\n",
              "      <td>BMW</td>\n",
              "      <td>1 Series</td>\n",
              "      <td>2011</td>\n",
              "      <td>premium unleaded (required)</td>\n",
              "      <td>300.0</td>\n",
              "      <td>6.0</td>\n",
              "      <td>MANUAL</td>\n",
              "      <td>rear wheel drive</td>\n",
              "      <td>2.0</td>\n",
              "      <td>Compact</td>\n",
              "      <td>Coupe</td>\n",
              "      <td>28</td>\n",
              "      <td>20</td>\n",
              "      <td>3916</td>\n",
              "      <td>36350</td>\n",
              "    </tr>\n",
              "    <tr>\n",
              "      <th>3</th>\n",
              "      <td>BMW</td>\n",
              "      <td>1 Series</td>\n",
              "      <td>2011</td>\n",
              "      <td>premium unleaded (required)</td>\n",
              "      <td>230.0</td>\n",
              "      <td>6.0</td>\n",
              "      <td>MANUAL</td>\n",
              "      <td>rear wheel drive</td>\n",
              "      <td>2.0</td>\n",
              "      <td>Compact</td>\n",
              "      <td>Coupe</td>\n",
              "      <td>28</td>\n",
              "      <td>18</td>\n",
              "      <td>3916</td>\n",
              "      <td>29450</td>\n",
              "    </tr>\n",
              "    <tr>\n",
              "      <th>4</th>\n",
              "      <td>BMW</td>\n",
              "      <td>1 Series</td>\n",
              "      <td>2011</td>\n",
              "      <td>premium unleaded (required)</td>\n",
              "      <td>230.0</td>\n",
              "      <td>6.0</td>\n",
              "      <td>MANUAL</td>\n",
              "      <td>rear wheel drive</td>\n",
              "      <td>2.0</td>\n",
              "      <td>Compact</td>\n",
              "      <td>Convertible</td>\n",
              "      <td>28</td>\n",
              "      <td>18</td>\n",
              "      <td>3916</td>\n",
              "      <td>34500</td>\n",
              "    </tr>\n",
              "  </tbody>\n",
              "</table>\n",
              "</div>"
            ],
            "text/plain": [
              "  Make       Model  Year  ... city mpg  Popularity   MSRP\n",
              "0  BMW  1 Series M  2011  ...       19        3916  46135\n",
              "1  BMW    1 Series  2011  ...       19        3916  40650\n",
              "2  BMW    1 Series  2011  ...       20        3916  36350\n",
              "3  BMW    1 Series  2011  ...       18        3916  29450\n",
              "4  BMW    1 Series  2011  ...       18        3916  34500\n",
              "\n",
              "[5 rows x 15 columns]"
            ]
          },
          "metadata": {
            "tags": []
          },
          "execution_count": 9
        }
      ]
    },
    {
      "cell_type": "markdown",
      "metadata": {
        "id": "OGwtd6Glwn9v",
        "colab_type": "text"
      },
      "source": [
        "# Step 3 - Renaming Columns"
      ]
    },
    {
      "cell_type": "markdown",
      "metadata": {
        "id": "9qP5tFfrxuao",
        "colab_type": "text"
      },
      "source": [
        "### Renaming the columns as instructed"
      ]
    },
    {
      "cell_type": "code",
      "metadata": {
        "id": "rSdIu-J0wn9w",
        "colab_type": "code",
        "colab": {
          "base_uri": "https://localhost:8080/",
          "height": 430
        },
        "outputId": "94baea90-02a4-4e4f-ad52-94c2fd1b5afa"
      },
      "source": [
        "data = data.rename(columns={ \"Engine HP\": \"HP\", \"Engine Cylinders\": \"Cylinders\", \"Transmission Type\": \"Transmission\", \"Driven_Wheels\": \"Drive Mode\",\"highway MPG\": \"MPG-H\", \"city mpg\": \"MPG-C\", \"MSRP\": \"Price\"})\n",
        "data.head()"
      ],
      "execution_count": 10,
      "outputs": [
        {
          "output_type": "execute_result",
          "data": {
            "text/html": [
              "<div>\n",
              "<style scoped>\n",
              "    .dataframe tbody tr th:only-of-type {\n",
              "        vertical-align: middle;\n",
              "    }\n",
              "\n",
              "    .dataframe tbody tr th {\n",
              "        vertical-align: top;\n",
              "    }\n",
              "\n",
              "    .dataframe thead th {\n",
              "        text-align: right;\n",
              "    }\n",
              "</style>\n",
              "<table border=\"1\" class=\"dataframe\">\n",
              "  <thead>\n",
              "    <tr style=\"text-align: right;\">\n",
              "      <th></th>\n",
              "      <th>Make</th>\n",
              "      <th>Model</th>\n",
              "      <th>Year</th>\n",
              "      <th>Engine Fuel Type</th>\n",
              "      <th>HP</th>\n",
              "      <th>Cylinders</th>\n",
              "      <th>Transmission</th>\n",
              "      <th>Drive Mode</th>\n",
              "      <th>Number of Doors</th>\n",
              "      <th>Vehicle Size</th>\n",
              "      <th>Vehicle Style</th>\n",
              "      <th>MPG-H</th>\n",
              "      <th>MPG-C</th>\n",
              "      <th>Popularity</th>\n",
              "      <th>Price</th>\n",
              "    </tr>\n",
              "  </thead>\n",
              "  <tbody>\n",
              "    <tr>\n",
              "      <th>0</th>\n",
              "      <td>BMW</td>\n",
              "      <td>1 Series M</td>\n",
              "      <td>2011</td>\n",
              "      <td>premium unleaded (required)</td>\n",
              "      <td>335.0</td>\n",
              "      <td>6.0</td>\n",
              "      <td>MANUAL</td>\n",
              "      <td>rear wheel drive</td>\n",
              "      <td>2.0</td>\n",
              "      <td>Compact</td>\n",
              "      <td>Coupe</td>\n",
              "      <td>26</td>\n",
              "      <td>19</td>\n",
              "      <td>3916</td>\n",
              "      <td>46135</td>\n",
              "    </tr>\n",
              "    <tr>\n",
              "      <th>1</th>\n",
              "      <td>BMW</td>\n",
              "      <td>1 Series</td>\n",
              "      <td>2011</td>\n",
              "      <td>premium unleaded (required)</td>\n",
              "      <td>300.0</td>\n",
              "      <td>6.0</td>\n",
              "      <td>MANUAL</td>\n",
              "      <td>rear wheel drive</td>\n",
              "      <td>2.0</td>\n",
              "      <td>Compact</td>\n",
              "      <td>Convertible</td>\n",
              "      <td>28</td>\n",
              "      <td>19</td>\n",
              "      <td>3916</td>\n",
              "      <td>40650</td>\n",
              "    </tr>\n",
              "    <tr>\n",
              "      <th>2</th>\n",
              "      <td>BMW</td>\n",
              "      <td>1 Series</td>\n",
              "      <td>2011</td>\n",
              "      <td>premium unleaded (required)</td>\n",
              "      <td>300.0</td>\n",
              "      <td>6.0</td>\n",
              "      <td>MANUAL</td>\n",
              "      <td>rear wheel drive</td>\n",
              "      <td>2.0</td>\n",
              "      <td>Compact</td>\n",
              "      <td>Coupe</td>\n",
              "      <td>28</td>\n",
              "      <td>20</td>\n",
              "      <td>3916</td>\n",
              "      <td>36350</td>\n",
              "    </tr>\n",
              "    <tr>\n",
              "      <th>3</th>\n",
              "      <td>BMW</td>\n",
              "      <td>1 Series</td>\n",
              "      <td>2011</td>\n",
              "      <td>premium unleaded (required)</td>\n",
              "      <td>230.0</td>\n",
              "      <td>6.0</td>\n",
              "      <td>MANUAL</td>\n",
              "      <td>rear wheel drive</td>\n",
              "      <td>2.0</td>\n",
              "      <td>Compact</td>\n",
              "      <td>Coupe</td>\n",
              "      <td>28</td>\n",
              "      <td>18</td>\n",
              "      <td>3916</td>\n",
              "      <td>29450</td>\n",
              "    </tr>\n",
              "    <tr>\n",
              "      <th>4</th>\n",
              "      <td>BMW</td>\n",
              "      <td>1 Series</td>\n",
              "      <td>2011</td>\n",
              "      <td>premium unleaded (required)</td>\n",
              "      <td>230.0</td>\n",
              "      <td>6.0</td>\n",
              "      <td>MANUAL</td>\n",
              "      <td>rear wheel drive</td>\n",
              "      <td>2.0</td>\n",
              "      <td>Compact</td>\n",
              "      <td>Convertible</td>\n",
              "      <td>28</td>\n",
              "      <td>18</td>\n",
              "      <td>3916</td>\n",
              "      <td>34500</td>\n",
              "    </tr>\n",
              "  </tbody>\n",
              "</table>\n",
              "</div>"
            ],
            "text/plain": [
              "  Make       Model  Year  ... MPG-C  Popularity  Price\n",
              "0  BMW  1 Series M  2011  ...    19        3916  46135\n",
              "1  BMW    1 Series  2011  ...    19        3916  40650\n",
              "2  BMW    1 Series  2011  ...    20        3916  36350\n",
              "3  BMW    1 Series  2011  ...    18        3916  29450\n",
              "4  BMW    1 Series  2011  ...    18        3916  34500\n",
              "\n",
              "[5 rows x 15 columns]"
            ]
          },
          "metadata": {
            "tags": []
          },
          "execution_count": 10
        }
      ]
    },
    {
      "cell_type": "markdown",
      "metadata": {
        "id": "xIbV90qlwn90",
        "colab_type": "text"
      },
      "source": [
        "# Step 4 - Checking and Removing Duplicates and Null Values"
      ]
    },
    {
      "cell_type": "markdown",
      "metadata": {
        "id": "7fT3y2k6xz9L",
        "colab_type": "text"
      },
      "source": [
        "### 4.1 Checking for Duplicate Values and Removing them"
      ]
    },
    {
      "cell_type": "code",
      "metadata": {
        "id": "2sZECvSRwn90",
        "colab_type": "code",
        "colab": {
          "base_uri": "https://localhost:8080/",
          "height": 0
        },
        "outputId": "2fa43b32-c851-4596-a8bc-50e595774bcb"
      },
      "source": [
        "#Printing number of Duplicate Values before dropping them\n",
        "print(\"Before dropping duplicates : \\n\", data.duplicated().sum())\n",
        "\n",
        "#Dropping the Duplicate Values\n",
        "data = data.drop_duplicates()\n",
        "\n",
        "#Printing number of Duplicate Values after dropping them\n",
        "print(\"After dropping duplicates : \\n\", data.duplicated().sum())"
      ],
      "execution_count": 11,
      "outputs": [
        {
          "output_type": "stream",
          "text": [
            "Before dropping duplicates : \n",
            " 720\n",
            "After dropping duplicates : \n",
            " 0\n"
          ],
          "name": "stdout"
        }
      ]
    },
    {
      "cell_type": "markdown",
      "metadata": {
        "id": "VOSWPZtLwn92",
        "colab_type": "text"
      },
      "source": [
        "### 4.2 Checking for Null Values and Removing them"
      ]
    },
    {
      "cell_type": "code",
      "metadata": {
        "id": "2mbxg5Yewn93",
        "colab_type": "code",
        "colab": {
          "base_uri": "https://localhost:8080/",
          "height": 0
        },
        "outputId": "4317d218-0ff8-47b2-c03a-cf82b1d517f0"
      },
      "source": [
        "#Printing number of null values before dropping them\n",
        "print(\"Before dropping null values : \\n\")\n",
        "print(data.isnull().sum())\n",
        "\n",
        "#Dropping the null values\n",
        "data = data.dropna()\n",
        "\n",
        "#Printing number of null values after dropping them\n",
        "print(\"\\nAfter dropping null values : \\n\")\n",
        "print(data.isnull().sum())"
      ],
      "execution_count": 12,
      "outputs": [
        {
          "output_type": "stream",
          "text": [
            "Before dropping null values : \n",
            "\n",
            "Make                 0\n",
            "Model                0\n",
            "Year                 0\n",
            "Engine Fuel Type     3\n",
            "HP                  69\n",
            "Cylinders           30\n",
            "Transmission         0\n",
            "Drive Mode           0\n",
            "Number of Doors      6\n",
            "Vehicle Size         0\n",
            "Vehicle Style        0\n",
            "MPG-H                0\n",
            "MPG-C                0\n",
            "Popularity           0\n",
            "Price                0\n",
            "dtype: int64\n",
            "\n",
            "After dropping null values : \n",
            "\n",
            "Make                0\n",
            "Model               0\n",
            "Year                0\n",
            "Engine Fuel Type    0\n",
            "HP                  0\n",
            "Cylinders           0\n",
            "Transmission        0\n",
            "Drive Mode          0\n",
            "Number of Doors     0\n",
            "Vehicle Size        0\n",
            "Vehicle Style       0\n",
            "MPG-H               0\n",
            "MPG-C               0\n",
            "Popularity          0\n",
            "Price               0\n",
            "dtype: int64\n"
          ],
          "name": "stdout"
        }
      ]
    },
    {
      "cell_type": "markdown",
      "metadata": {
        "id": "ykUxCEAQwn95",
        "colab_type": "text"
      },
      "source": [
        "### 4.3 Checking the state of the dataset after dropping the duplicates and null values"
      ]
    },
    {
      "cell_type": "code",
      "metadata": {
        "id": "azWBb3Vqwn95",
        "colab_type": "code",
        "colab": {
          "base_uri": "https://localhost:8080/",
          "height": 0
        },
        "outputId": "96594ad4-476f-4be5-90bc-39d3be35317f"
      },
      "source": [
        "data.info()"
      ],
      "execution_count": 13,
      "outputs": [
        {
          "output_type": "stream",
          "text": [
            "<class 'pandas.core.frame.DataFrame'>\n",
            "Int64Index: 11092 entries, 0 to 11913\n",
            "Data columns (total 15 columns):\n",
            " #   Column            Non-Null Count  Dtype  \n",
            "---  ------            --------------  -----  \n",
            " 0   Make              11092 non-null  object \n",
            " 1   Model             11092 non-null  object \n",
            " 2   Year              11092 non-null  int64  \n",
            " 3   Engine Fuel Type  11092 non-null  object \n",
            " 4   HP                11092 non-null  float64\n",
            " 5   Cylinders         11092 non-null  float64\n",
            " 6   Transmission      11092 non-null  object \n",
            " 7   Drive Mode        11092 non-null  object \n",
            " 8   Number of Doors   11092 non-null  float64\n",
            " 9   Vehicle Size      11092 non-null  object \n",
            " 10  Vehicle Style     11092 non-null  object \n",
            " 11  MPG-H             11092 non-null  int64  \n",
            " 12  MPG-C             11092 non-null  int64  \n",
            " 13  Popularity        11092 non-null  int64  \n",
            " 14  Price             11092 non-null  int64  \n",
            "dtypes: float64(3), int64(5), object(7)\n",
            "memory usage: 1.4+ MB\n"
          ],
          "name": "stdout"
        }
      ]
    },
    {
      "cell_type": "markdown",
      "metadata": {
        "id": "fUO_Q9k0wn98",
        "colab_type": "text"
      },
      "source": [
        "# Step 5 - Checking and Removing Outliers"
      ]
    },
    {
      "cell_type": "markdown",
      "metadata": {
        "id": "QuQevbnjyBrw",
        "colab_type": "text"
      },
      "source": [
        "## 5.1 Checking for Outiers using BoxPlot"
      ]
    },
    {
      "cell_type": "markdown",
      "metadata": {
        "id": "URDSEdqUyCDZ",
        "colab_type": "text"
      },
      "source": [
        "### 5.1.1 Year"
      ]
    },
    {
      "cell_type": "code",
      "metadata": {
        "id": "xq8DuWx5wn98",
        "colab_type": "code",
        "colab": {
          "base_uri": "https://localhost:8080/",
          "height": 0
        },
        "outputId": "6a664580-26df-4133-8141-4ef84ac7fc4c"
      },
      "source": [
        "sns.boxplot(x=data['Year'])"
      ],
      "execution_count": 14,
      "outputs": [
        {
          "output_type": "execute_result",
          "data": {
            "text/plain": [
              "<matplotlib.axes._subplots.AxesSubplot at 0x7f9bcc395358>"
            ]
          },
          "metadata": {
            "tags": []
          },
          "execution_count": 14
        },
        {
          "output_type": "display_data",
          "data": {
            "image/png": "[encoded data removed]",
            "text/plain": [
              "<Figure size 432x288 with 1 Axes>"
            ]
          },
          "metadata": {
            "tags": [],
            "needs_background": "light"
          }
        }
      ]
    },
    {
      "cell_type": "markdown",
      "metadata": {
        "id": "MAr4ybj0wn9_",
        "colab_type": "text"
      },
      "source": [
        "### 5.1.2 HP"
      ]
    },
    {
      "cell_type": "code",
      "metadata": {
        "id": "syzIYGwHwn9_",
        "colab_type": "code",
        "colab": {
          "base_uri": "https://localhost:8080/",
          "height": 0
        },
        "outputId": "bc10e1e6-bc4e-457a-a706-102772e0f6c4"
      },
      "source": [
        "sns.boxplot(x=data['HP'])"
      ],
      "execution_count": 15,
      "outputs": [
        {
          "output_type": "execute_result",
          "data": {
            "text/plain": [
              "<matplotlib.axes._subplots.AxesSubplot at 0x7f9bcc2875f8>"
            ]
          },
          "metadata": {
            "tags": []
          },
          "execution_count": 15
        },
        {
          "output_type": "display_data",
          "data": {
            "image/png": "[encoded data removed]",
            "text/plain": [
              "<Figure size 432x288 with 1 Axes>"
            ]
          },
          "metadata": {
            "tags": [],
            "needs_background": "light"
          }
        }
      ]
    },
    {
      "cell_type": "markdown",
      "metadata": {
        "id": "GX8XhvoUwn-C",
        "colab_type": "text"
      },
      "source": [
        "### 5.1.3 Cylinders"
      ]
    },
    {
      "cell_type": "code",
      "metadata": {
        "id": "R9v9anJhwn-C",
        "colab_type": "code",
        "colab": {
          "base_uri": "https://localhost:8080/",
          "height": 0
        },
        "outputId": "1c55d9f4-d0e8-47a2-976a-c908a6930c80"
      },
      "source": [
        "sns.boxplot(x=data['Cylinders'])"
      ],
      "execution_count": 16,
      "outputs": [
        {
          "output_type": "execute_result",
          "data": {
            "text/plain": [
              "<matplotlib.axes._subplots.AxesSubplot at 0x7f9bcbda5ba8>"
            ]
          },
          "metadata": {
            "tags": []
          },
          "execution_count": 16
        },
        {
          "output_type": "display_data",
          "data": {
            "image/png": "[encoded data removed]",
            "text/plain": [
              "<Figure size 432x288 with 1 Axes>"
            ]
          },
          "metadata": {
            "tags": [],
            "needs_background": "light"
          }
        }
      ]
    },
    {
      "cell_type": "markdown",
      "metadata": {
        "id": "lOK25Dmnwn-F",
        "colab_type": "text"
      },
      "source": [
        "### 5.1.4 MPG-H"
      ]
    },
    {
      "cell_type": "code",
      "metadata": {
        "id": "8MT85XZtwn-F",
        "colab_type": "code",
        "colab": {
          "base_uri": "https://localhost:8080/",
          "height": 0
        },
        "outputId": "1a3e03fd-fcab-4dcb-ac5f-b66d0eaaaa12"
      },
      "source": [
        "sns.boxplot(x=data['MPG-H'])"
      ],
      "execution_count": 17,
      "outputs": [
        {
          "output_type": "execute_result",
          "data": {
            "text/plain": [
              "<matplotlib.axes._subplots.AxesSubplot at 0x7f9bcbd93400>"
            ]
          },
          "metadata": {
            "tags": []
          },
          "execution_count": 17
        },
        {
          "output_type": "display_data",
          "data": {
            "image/png": "[encoded data removed]",
            "text/plain": [
              "<Figure size 432x288 with 1 Axes>"
            ]
          },
          "metadata": {
            "tags": [],
            "needs_background": "light"
          }
        }
      ]
    },
    {
      "cell_type": "markdown",
      "metadata": {
        "id": "5b6hR8M2wn-H",
        "colab_type": "text"
      },
      "source": [
        "### 5.1.5 MPG-C"
      ]
    },
    {
      "cell_type": "code",
      "metadata": {
        "id": "2n6iSV49wn-H",
        "colab_type": "code",
        "colab": {
          "base_uri": "https://localhost:8080/",
          "height": 0
        },
        "outputId": "850201f6-f17f-4fa5-ef39-ed452af0a718"
      },
      "source": [
        "sns.boxplot(x=data['MPG-C'])"
      ],
      "execution_count": 18,
      "outputs": [
        {
          "output_type": "execute_result",
          "data": {
            "text/plain": [
              "<matplotlib.axes._subplots.AxesSubplot at 0x7f9bcbd048d0>"
            ]
          },
          "metadata": {
            "tags": []
          },
          "execution_count": 18
        },
        {
          "output_type": "display_data",
          "data": {
            "image/png": "[encoded data removed]",
            "text/plain": [
              "<Figure size 432x288 with 1 Axes>"
            ]
          },
          "metadata": {
            "tags": [],
            "needs_background": "light"
          }
        }
      ]
    },
    {
      "cell_type": "markdown",
      "metadata": {
        "id": "dcFpciCAwn-J",
        "colab_type": "text"
      },
      "source": [
        "### 5.1.6 Popularity"
      ]
    },
    {
      "cell_type": "code",
      "metadata": {
        "id": "fD1yUiuNwn-J",
        "colab_type": "code",
        "colab": {
          "base_uri": "https://localhost:8080/",
          "height": 0
        },
        "outputId": "7bd21733-b077-4427-8ad9-a27084298ad6"
      },
      "source": [
        "sns.boxplot(x=data['Popularity'])"
      ],
      "execution_count": 19,
      "outputs": [
        {
          "output_type": "execute_result",
          "data": {
            "text/plain": [
              "<matplotlib.axes._subplots.AxesSubplot at 0x7f9bcbc66e48>"
            ]
          },
          "metadata": {
            "tags": []
          },
          "execution_count": 19
        },
        {
          "output_type": "display_data",
          "data": {
            "image/png": "[encoded data removed]",
            "text/plain": [
              "<Figure size 432x288 with 1 Axes>"
            ]
          },
          "metadata": {
            "tags": [],
            "needs_background": "light"
          }
        }
      ]
    },
    {
      "cell_type": "markdown",
      "metadata": {
        "id": "1YtJ8aORwn-L",
        "colab_type": "text"
      },
      "source": [
        "### 5.1.7 Price"
      ]
    },
    {
      "cell_type": "code",
      "metadata": {
        "id": "M3936anSwn-M",
        "colab_type": "code",
        "colab": {
          "base_uri": "https://localhost:8080/",
          "height": 0
        },
        "outputId": "bc88873f-fa80-470e-e596-e3b77b43c7ad"
      },
      "source": [
        "sns.boxplot(x=data['Price'])"
      ],
      "execution_count": 20,
      "outputs": [
        {
          "output_type": "execute_result",
          "data": {
            "text/plain": [
              "<matplotlib.axes._subplots.AxesSubplot at 0x7f9bcbc46e48>"
            ]
          },
          "metadata": {
            "tags": []
          },
          "execution_count": 20
        },
        {
          "output_type": "display_data",
          "data": {
            "image/png": "[encoded data removed]",
            "text/plain": [
              "<Figure size 432x288 with 1 Axes>"
            ]
          },
          "metadata": {
            "tags": [],
            "needs_background": "light"
          }
        }
      ]
    },
    {
      "cell_type": "markdown",
      "metadata": {
        "id": "vAytucX2wn-P",
        "colab_type": "text"
      },
      "source": [
        "## 5.2 Removing the Outliers using IQR(InterQuantile Region) method"
      ]
    },
    {
      "cell_type": "code",
      "metadata": {
        "id": "3PDEeT-Twn-P",
        "colab_type": "code",
        "colab": {
          "base_uri": "https://localhost:8080/",
          "height": 0
        },
        "outputId": "f75490dd-4956-41f0-940b-86282c5e7de1"
      },
      "source": [
        "Q1 = data.quantile(0.25)\n",
        "Q3 = data.quantile(0.75)\n",
        "IQR = Q3 - Q1\n",
        "print(\"The calculated IQR is :\\n\\n\", IQR)"
      ],
      "execution_count": 21,
      "outputs": [
        {
          "output_type": "stream",
          "text": [
            "The calculated IQR is :\n",
            "\n",
            " Year                   9.0\n",
            "HP                   131.0\n",
            "Cylinders              2.0\n",
            "Number of Doors        2.0\n",
            "MPG-H                  8.0\n",
            "MPG-C                  6.0\n",
            "Popularity          1460.0\n",
            "Price              21485.0\n",
            "dtype: float64\n"
          ],
          "name": "stdout"
        }
      ]
    },
    {
      "cell_type": "code",
      "metadata": {
        "id": "hRXKfYMawn-S",
        "colab_type": "code",
        "colab": {
          "base_uri": "https://localhost:8080/",
          "height": 0
        },
        "outputId": "21a3235a-d472-4a51-ed25-9d36638385bd"
      },
      "source": [
        "data = data[~((data < (Q1 - 1.5 * IQR)) |(data > (Q3 + 1.5 * IQR))).any(axis=1)]\n",
        "print(\"The shape of the dataset after removing the outliers is :\\n\", data.shape)"
      ],
      "execution_count": 22,
      "outputs": [
        {
          "output_type": "stream",
          "text": [
            "The shape of the dataset after removing the outliers is :\n",
            " (8609, 15)\n"
          ],
          "name": "stdout"
        }
      ]
    },
    {
      "cell_type": "markdown",
      "metadata": {
        "id": "lmos4frTwn-U",
        "colab_type": "text"
      },
      "source": [
        "## 5.3 Confirming that the Outliers are removed using BoxPlot"
      ]
    },
    {
      "cell_type": "markdown",
      "metadata": {
        "id": "ZG-zLOH8wn-V",
        "colab_type": "text"
      },
      "source": [
        "### 5.3.1 Year"
      ]
    },
    {
      "cell_type": "code",
      "metadata": {
        "id": "vQv-cgaSwn-V",
        "colab_type": "code",
        "colab": {
          "base_uri": "https://localhost:8080/",
          "height": 0
        },
        "outputId": "bdd7bcbb-7cfd-4ad1-a918-50072d678252"
      },
      "source": [
        "sns.boxplot(x=data['Year'])"
      ],
      "execution_count": 23,
      "outputs": [
        {
          "output_type": "execute_result",
          "data": {
            "text/plain": [
              "<matplotlib.axes._subplots.AxesSubplot at 0x7f9bcc395da0>"
            ]
          },
          "metadata": {
            "tags": []
          },
          "execution_count": 23
        },
        {
          "output_type": "display_data",
          "data": {
            "image/png": "[encoded data removed]",
            "text/plain": [
              "<Figure size 432x288 with 1 Axes>"
            ]
          },
          "metadata": {
            "tags": [],
            "needs_background": "light"
          }
        }
      ]
    },
    {
      "cell_type": "markdown",
      "metadata": {
        "id": "CF-jq6pfwn-X",
        "colab_type": "text"
      },
      "source": [
        "### 5.3.2 HP"
      ]
    },
    {
      "cell_type": "code",
      "metadata": {
        "id": "1bQBBEKuwn-X",
        "colab_type": "code",
        "colab": {
          "base_uri": "https://localhost:8080/",
          "height": 0
        },
        "outputId": "c9b51114-7acf-43d8-e906-6dc9c8aa7a17"
      },
      "source": [
        "sns.boxplot(x=data['HP'])"
      ],
      "execution_count": 24,
      "outputs": [
        {
          "output_type": "execute_result",
          "data": {
            "text/plain": [
              "<matplotlib.axes._subplots.AxesSubplot at 0x7f9bca8f0898>"
            ]
          },
          "metadata": {
            "tags": []
          },
          "execution_count": 24
        },
        {
          "output_type": "display_data",
          "data": {
            "image/png": "[encoded data removed]",
            "text/plain": [
              "<Figure size 432x288 with 1 Axes>"
            ]
          },
          "metadata": {
            "tags": [],
            "needs_background": "light"
          }
        }
      ]
    },
    {
      "cell_type": "markdown",
      "metadata": {
        "id": "854cozFlwn-Z",
        "colab_type": "text"
      },
      "source": [
        "### 5.3.3 Cylinders"
      ]
    },
    {
      "cell_type": "code",
      "metadata": {
        "id": "BI_ZXe1Ywn-Z",
        "colab_type": "code",
        "colab": {
          "base_uri": "https://localhost:8080/",
          "height": 0
        },
        "outputId": "e6dcb898-4a4a-462b-c16e-2459cbadd6f0"
      },
      "source": [
        "sns.boxplot(x=data['Cylinders'])"
      ],
      "execution_count": 25,
      "outputs": [
        {
          "output_type": "execute_result",
          "data": {
            "text/plain": [
              "<matplotlib.axes._subplots.AxesSubplot at 0x7f9bca8c69e8>"
            ]
          },
          "metadata": {
            "tags": []
          },
          "execution_count": 25
        },
        {
          "output_type": "display_data",
          "data": {
            "image/png": "[encoded data removed]",
            "text/plain": [
              "<Figure size 432x288 with 1 Axes>"
            ]
          },
          "metadata": {
            "tags": [],
            "needs_background": "light"
          }
        }
      ]
    },
    {
      "cell_type": "markdown",
      "metadata": {
        "id": "zbYWQZ3uwn-b",
        "colab_type": "text"
      },
      "source": [
        "### 5.3.4 MPG-H"
      ]
    },
    {
      "cell_type": "code",
      "metadata": {
        "id": "Y3jkNkhcwn-c",
        "colab_type": "code",
        "colab": {
          "base_uri": "https://localhost:8080/",
          "height": 0
        },
        "outputId": "86389c5c-bf94-43a7-b3ed-63759d0817d0"
      },
      "source": [
        "sns.boxplot(x=data['MPG-H'])"
      ],
      "execution_count": 26,
      "outputs": [
        {
          "output_type": "execute_result",
          "data": {
            "text/plain": [
              "<matplotlib.axes._subplots.AxesSubplot at 0x7f9bca8294a8>"
            ]
          },
          "metadata": {
            "tags": []
          },
          "execution_count": 26
        },
        {
          "output_type": "display_data",
          "data": {
            "image/png": "[encoded data removed]",
            "text/plain": [
              "<Figure size 432x288 with 1 Axes>"
            ]
          },
          "metadata": {
            "tags": [],
            "needs_background": "light"
          }
        }
      ]
    },
    {
      "cell_type": "markdown",
      "metadata": {
        "id": "vFs58mFNwn-e",
        "colab_type": "text"
      },
      "source": [
        "### 5.3.5 MPG-C"
      ]
    },
    {
      "cell_type": "code",
      "metadata": {
        "id": "UNIpKDnDwn-e",
        "colab_type": "code",
        "colab": {
          "base_uri": "https://localhost:8080/",
          "height": 0
        },
        "outputId": "e3d7263a-98c4-4ff6-de30-e625c34500ae"
      },
      "source": [
        "sns.boxplot(x=data['MPG-C'])"
      ],
      "execution_count": 27,
      "outputs": [
        {
          "output_type": "execute_result",
          "data": {
            "text/plain": [
              "<matplotlib.axes._subplots.AxesSubplot at 0x7f9bca810358>"
            ]
          },
          "metadata": {
            "tags": []
          },
          "execution_count": 27
        },
        {
          "output_type": "display_data",
          "data": {
            "image/png": "[encoded data removed]",
            "text/plain": [
              "<Figure size 432x288 with 1 Axes>"
            ]
          },
          "metadata": {
            "tags": [],
            "needs_background": "light"
          }
        }
      ]
    },
    {
      "cell_type": "markdown",
      "metadata": {
        "id": "DqCjJng4wn-g",
        "colab_type": "text"
      },
      "source": [
        "### 5.3.6 Popularity"
      ]
    },
    {
      "cell_type": "code",
      "metadata": {
        "id": "pZc7y_e6wn-g",
        "colab_type": "code",
        "colab": {
          "base_uri": "https://localhost:8080/",
          "height": 0
        },
        "outputId": "41dd41d2-c28a-4f84-cb6c-039bf996b93a"
      },
      "source": [
        "sns.boxplot(x=data['Popularity'])"
      ],
      "execution_count": 28,
      "outputs": [
        {
          "output_type": "execute_result",
          "data": {
            "text/plain": [
              "<matplotlib.axes._subplots.AxesSubplot at 0x7f9bca7757f0>"
            ]
          },
          "metadata": {
            "tags": []
          },
          "execution_count": 28
        },
        {
          "output_type": "display_data",
          "data": {
            "image/png": "[encoded data removed]",
            "text/plain": [
              "<Figure size 432x288 with 1 Axes>"
            ]
          },
          "metadata": {
            "tags": [],
            "needs_background": "light"
          }
        }
      ]
    },
    {
      "cell_type": "markdown",
      "metadata": {
        "id": "43dUQ-PAwn-i",
        "colab_type": "text"
      },
      "source": [
        "### 5.3.7 Price"
      ]
    },
    {
      "cell_type": "code",
      "metadata": {
        "id": "y__1EFAxwn-i",
        "colab_type": "code",
        "colab": {
          "base_uri": "https://localhost:8080/",
          "height": 0
        },
        "outputId": "e4e714dc-6520-441e-d228-24763e22b9b1"
      },
      "source": [
        "sns.boxplot(x=data['Price'])"
      ],
      "execution_count": 29,
      "outputs": [
        {
          "output_type": "execute_result",
          "data": {
            "text/plain": [
              "<matplotlib.axes._subplots.AxesSubplot at 0x7f9bca6dc470>"
            ]
          },
          "metadata": {
            "tags": []
          },
          "execution_count": 29
        },
        {
          "output_type": "display_data",
          "data": {
            "image/png": "[encoded data removed]",
            "text/plain": [
              "<Figure size 432x288 with 1 Axes>"
            ]
          },
          "metadata": {
            "tags": [],
            "needs_background": "light"
          }
        }
      ]
    },
    {
      "cell_type": "markdown",
      "metadata": {
        "id": "NmT-ptzzwn-l",
        "colab_type": "text"
      },
      "source": [
        "# Step 6 - Top 10 Car Brands and their Average Prices"
      ]
    },
    {
      "cell_type": "markdown",
      "metadata": {
        "id": "EAmryhZVyIGP",
        "colab_type": "text"
      },
      "source": [
        "### 6.1 Finding the Top 10 Most Represented Car Brands"
      ]
    },
    {
      "cell_type": "code",
      "metadata": {
        "id": "LDUvEJ2Awn-l",
        "colab_type": "code",
        "colab": {
          "base_uri": "https://localhost:8080/",
          "height": 0
        },
        "outputId": "350781ee-1ec6-48a7-a07b-fea79e2484ba"
      },
      "source": [
        "# Percentage of cars represented per brand\n",
        "brands = data['Make'].value_counts()*100/sum(data['Make'].value_counts())\n",
        "\n",
        "# Top 10 car brands\n",
        "popular_labels = brands.index[9::-1]\n",
        "    \n",
        "# Plotting the graph representing the top 10 brands\n",
        "plt.figure(figsize=(15,9))\n",
        "plt.barh(popular_labels, width=brands[9::-1])\n",
        "plt.title('Top 10 Most Represented Car brands')\n",
        "plt.show()"
      ],
      "execution_count": 30,
      "outputs": [
        {
          "output_type": "display_data",
          "data": {
            "image/png": "[encoded data removed]",
            "text/plain": [
              "<Figure size 1080x648 with 1 Axes>"
            ]
          },
          "metadata": {
            "tags": [],
            "needs_background": "light"
          }
        }
      ]
    },
    {
      "cell_type": "markdown",
      "metadata": {
        "id": "rq1MxbJxwn-n",
        "colab_type": "text"
      },
      "source": [
        "### 6.2 Calculating the Average Prices of these Brands"
      ]
    },
    {
      "cell_type": "code",
      "metadata": {
        "id": "eQmNdA5wwn-n",
        "colab_type": "code",
        "colab": {
          "base_uri": "https://localhost:8080/",
          "height": 0
        },
        "outputId": "48448a5e-76f8-493d-aade-f50174d477db"
      },
      "source": [
        "prices = data[['Make','Price']].loc[\n",
        "    (data['Make'] == 'Chevrolet')|\n",
        "    (data['Make'] == 'Toyota')|\n",
        "    (data['Make'] == 'Volkswagen')|\n",
        "    (data['Make'] == 'Nissan')|\n",
        "    (data['Make'] == 'GMC')|\n",
        "    (data['Make'] == 'Dodge')|\n",
        "    (data['Make'] == 'Mazda')|\n",
        "    (data['Make'] == 'Honda')|\n",
        "    (data['Make'] == 'Suzuki')|\n",
        "    (data['Make'] == 'Infiniti')\n",
        "        ].groupby('Make').mean()\n",
        "print(\"The average prices for the top brands are :\\n\")\n",
        "print(prices)"
      ],
      "execution_count": 31,
      "outputs": [
        {
          "output_type": "stream",
          "text": [
            "The average prices for the top brands are :\n",
            "\n",
            "                   Price\n",
            "Make                    \n",
            "Chevrolet   28188.626459\n",
            "Dodge       26076.722353\n",
            "GMC         33261.400853\n",
            "Honda       27381.364611\n",
            "Infiniti    43127.822981\n",
            "Mazda       20495.820106\n",
            "Nissan      28352.543860\n",
            "Suzuki      18164.098214\n",
            "Toyota      29011.750397\n",
            "Volkswagen  29032.817476\n"
          ],
          "name": "stdout"
        }
      ]
    },
    {
      "cell_type": "markdown",
      "metadata": {
        "id": "YMS_I3iwwn-q",
        "colab_type": "text"
      },
      "source": [
        "# Step 7 - Correlation"
      ]
    },
    {
      "cell_type": "markdown",
      "metadata": {
        "id": "LhETQiFayN-j",
        "colab_type": "text"
      },
      "source": [
        "### 7.1 Correlation Matrix"
      ]
    },
    {
      "cell_type": "code",
      "metadata": {
        "id": "88uMeHArwn-q",
        "colab_type": "code",
        "colab": {
          "base_uri": "https://localhost:8080/",
          "height": 0
        },
        "outputId": "26a2dc10-6e33-459e-cb3b-2643cfcef849"
      },
      "source": [
        "data.corr()"
      ],
      "execution_count": 32,
      "outputs": [
        {
          "output_type": "execute_result",
          "data": {
            "text/html": [
              "<div>\n",
              "<style scoped>\n",
              "    .dataframe tbody tr th:only-of-type {\n",
              "        vertical-align: middle;\n",
              "    }\n",
              "\n",
              "    .dataframe tbody tr th {\n",
              "        vertical-align: top;\n",
              "    }\n",
              "\n",
              "    .dataframe thead th {\n",
              "        text-align: right;\n",
              "    }\n",
              "</style>\n",
              "<table border=\"1\" class=\"dataframe\">\n",
              "  <thead>\n",
              "    <tr style=\"text-align: right;\">\n",
              "      <th></th>\n",
              "      <th>Year</th>\n",
              "      <th>HP</th>\n",
              "      <th>Cylinders</th>\n",
              "      <th>Number of Doors</th>\n",
              "      <th>MPG-H</th>\n",
              "      <th>MPG-C</th>\n",
              "      <th>Popularity</th>\n",
              "      <th>Price</th>\n",
              "    </tr>\n",
              "  </thead>\n",
              "  <tbody>\n",
              "    <tr>\n",
              "      <th>Year</th>\n",
              "      <td>1.000000</td>\n",
              "      <td>0.330621</td>\n",
              "      <td>-0.094479</td>\n",
              "      <td>0.241078</td>\n",
              "      <td>0.359886</td>\n",
              "      <td>0.323710</td>\n",
              "      <td>0.204668</td>\n",
              "      <td>0.591834</td>\n",
              "    </tr>\n",
              "    <tr>\n",
              "      <th>HP</th>\n",
              "      <td>0.330621</td>\n",
              "      <td>1.000000</td>\n",
              "      <td>0.740964</td>\n",
              "      <td>0.044248</td>\n",
              "      <td>-0.465232</td>\n",
              "      <td>-0.563260</td>\n",
              "      <td>0.105776</td>\n",
              "      <td>0.743476</td>\n",
              "    </tr>\n",
              "    <tr>\n",
              "      <th>Cylinders</th>\n",
              "      <td>-0.094479</td>\n",
              "      <td>0.740964</td>\n",
              "      <td>1.000000</td>\n",
              "      <td>0.024115</td>\n",
              "      <td>-0.697892</td>\n",
              "      <td>-0.750855</td>\n",
              "      <td>0.025742</td>\n",
              "      <td>0.391990</td>\n",
              "    </tr>\n",
              "    <tr>\n",
              "      <th>Number of Doors</th>\n",
              "      <td>0.241078</td>\n",
              "      <td>0.044248</td>\n",
              "      <td>0.024115</td>\n",
              "      <td>1.000000</td>\n",
              "      <td>0.004763</td>\n",
              "      <td>0.021714</td>\n",
              "      <td>-0.073779</td>\n",
              "      <td>0.130505</td>\n",
              "    </tr>\n",
              "    <tr>\n",
              "      <th>MPG-H</th>\n",
              "      <td>0.359886</td>\n",
              "      <td>-0.465232</td>\n",
              "      <td>-0.697892</td>\n",
              "      <td>0.004763</td>\n",
              "      <td>1.000000</td>\n",
              "      <td>0.937939</td>\n",
              "      <td>0.080936</td>\n",
              "      <td>-0.127598</td>\n",
              "    </tr>\n",
              "    <tr>\n",
              "      <th>MPG-C</th>\n",
              "      <td>0.323710</td>\n",
              "      <td>-0.563260</td>\n",
              "      <td>-0.750855</td>\n",
              "      <td>0.021714</td>\n",
              "      <td>0.937939</td>\n",
              "      <td>1.000000</td>\n",
              "      <td>0.070418</td>\n",
              "      <td>-0.202185</td>\n",
              "    </tr>\n",
              "    <tr>\n",
              "      <th>Popularity</th>\n",
              "      <td>0.204668</td>\n",
              "      <td>0.105776</td>\n",
              "      <td>0.025742</td>\n",
              "      <td>-0.073779</td>\n",
              "      <td>0.080936</td>\n",
              "      <td>0.070418</td>\n",
              "      <td>1.000000</td>\n",
              "      <td>0.116907</td>\n",
              "    </tr>\n",
              "    <tr>\n",
              "      <th>Price</th>\n",
              "      <td>0.591834</td>\n",
              "      <td>0.743476</td>\n",
              "      <td>0.391990</td>\n",
              "      <td>0.130505</td>\n",
              "      <td>-0.127598</td>\n",
              "      <td>-0.202185</td>\n",
              "      <td>0.116907</td>\n",
              "      <td>1.000000</td>\n",
              "    </tr>\n",
              "  </tbody>\n",
              "</table>\n",
              "</div>"
            ],
            "text/plain": [
              "                     Year        HP  Cylinders  ...     MPG-C  Popularity     Price\n",
              "Year             1.000000  0.330621  -0.094479  ...  0.323710    0.204668  0.591834\n",
              "HP               0.330621  1.000000   0.740964  ... -0.563260    0.105776  0.743476\n",
              "Cylinders       -0.094479  0.740964   1.000000  ... -0.750855    0.025742  0.391990\n",
              "Number of Doors  0.241078  0.044248   0.024115  ...  0.021714   -0.073779  0.130505\n",
              "MPG-H            0.359886 -0.465232  -0.697892  ...  0.937939    0.080936 -0.127598\n",
              "MPG-C            0.323710 -0.563260  -0.750855  ...  1.000000    0.070418 -0.202185\n",
              "Popularity       0.204668  0.105776   0.025742  ...  0.070418    1.000000  0.116907\n",
              "Price            0.591834  0.743476   0.391990  ... -0.202185    0.116907  1.000000\n",
              "\n",
              "[8 rows x 8 columns]"
            ]
          },
          "metadata": {
            "tags": []
          },
          "execution_count": 32
        }
      ]
    },
    {
      "cell_type": "markdown",
      "metadata": {
        "id": "wCJJStnhwn-s",
        "colab_type": "text"
      },
      "source": [
        "### 7.2 Insights - HeatMap"
      ]
    },
    {
      "cell_type": "code",
      "metadata": {
        "id": "Eqkgbp6rwn-t",
        "colab_type": "code",
        "colab": {
          "base_uri": "https://localhost:8080/",
          "height": 0
        },
        "outputId": "2e535db3-5a3e-4c19-acc7-2fb11ade6825"
      },
      "source": [
        "car_corr = data.corr()\n",
        "f, ax = plt.subplots(figsize=(15,10))\n",
        "sns.heatmap(car_corr, cmap='jet',annot=True)\n",
        "plt.title(\"Correlation between Features\", weight='bold', fontsize=20)\n",
        "plt.show()"
      ],
      "execution_count": 33,
      "outputs": [
        {
          "output_type": "display_data",
          "data": {
            "image/png": "[encoded data removed]",
            "text/plain": [
              "<Figure size 1080x720 with 2 Axes>"
            ]
          },
          "metadata": {
            "tags": [],
            "needs_background": "light"
          }
        }
      ]
    },
    {
      "cell_type": "markdown",
      "metadata": {
        "id": "kRyaFiiqwn-u",
        "colab_type": "text"
      },
      "source": [
        "#### From the HeatMap, we observe :\n",
        "\n",
        "#### Positive Correlations\n",
        "    1. Year  and  Price      - 59% (Moderate)\n",
        "    2. HP    and  Cylinders  - 74% (Strong)\n",
        "    3. HP    and  Price      - 74% (Strong)\n",
        "    4. MPG-H and  MPG-C      - 94% (Strong)\n",
        "\n",
        "#### Negative Correlations\n",
        "    1. HP        and  MPG-H      - -47% (Moderate)\n",
        "    2. HP        and  MPG-C      - -56% (Moderate)\n",
        "    3. Cylinders and  MPG-H      - -70% (Strong)\n",
        "    4. Cylinders and  MPG-C      - -75% (Strong)"
      ]
    },
    {
      "cell_type": "markdown",
      "metadata": {
        "id": "KIHvbIkSwn-v",
        "colab_type": "text"
      },
      "source": [
        "# Step 8 - Performing EDA by Plotting Graphs to find Features affecting Price"
      ]
    },
    {
      "cell_type": "markdown",
      "metadata": {
        "id": "3c1mkGNOyZ7f",
        "colab_type": "text"
      },
      "source": [
        "### 8.1 Make and Price"
      ]
    },
    {
      "cell_type": "code",
      "metadata": {
        "id": "fHLa4eOWwn-v",
        "colab_type": "code",
        "colab": {
          "base_uri": "https://localhost:8080/",
          "height": 0
        },
        "outputId": "b1c6f941-558e-43d4-c32d-853df600faba"
      },
      "source": [
        "plt.figure(figsize=(15,10))\n",
        "sns.barplot(data['Price'],data['Make'])"
      ],
      "execution_count": 34,
      "outputs": [
        {
          "output_type": "execute_result",
          "data": {
            "text/plain": [
              "<matplotlib.axes._subplots.AxesSubplot at 0x7f9bca6475f8>"
            ]
          },
          "metadata": {
            "tags": []
          },
          "execution_count": 34
        },
        {
          "output_type": "display_data",
          "data": {
            "image/png": "[encoded data removed]",
            "text/plain": [
              "<Figure size 1080x720 with 1 Axes>"
            ]
          },
          "metadata": {
            "tags": [],
            "needs_background": "light"
          }
        }
      ]
    },
    {
      "cell_type": "markdown",
      "metadata": {
        "id": "ltpu9hjOwn-y",
        "colab_type": "text"
      },
      "source": [
        "#### The Brand of the Car Greatly affects its Price\n",
        "\n",
        "#### The Most Expensive Car Brands are:\n",
        "    Alfa Romeo\n",
        "    Porche\n",
        "    Lotus\n",
        "    Maserati\n",
        "    \n",
        "#### The Cheapest Car Brands are:\n",
        "    Plymouth\n",
        "    Oldsmobile"
      ]
    },
    {
      "cell_type": "markdown",
      "metadata": {
        "id": "2E3gtVzHwn-y",
        "colab_type": "text"
      },
      "source": [
        "### 8.2 Year and Price"
      ]
    },
    {
      "cell_type": "code",
      "metadata": {
        "id": "4zQuqqA5wn-z",
        "colab_type": "code",
        "colab": {
          "base_uri": "https://localhost:8080/",
          "height": 0
        },
        "outputId": "41b6444e-b99e-44bc-dec3-cf3b8f362f73"
      },
      "source": [
        "plt.figure(figsize=(15,10))\n",
        "sns.barplot(data['Year'],data['Price'])"
      ],
      "execution_count": 35,
      "outputs": [
        {
          "output_type": "execute_result",
          "data": {
            "text/plain": [
              "<matplotlib.axes._subplots.AxesSubplot at 0x7f9bca90beb8>"
            ]
          },
          "metadata": {
            "tags": []
          },
          "execution_count": 35
        },
        {
          "output_type": "display_data",
          "data": {
            "image/png": "[encoded data removed]",
            "text/plain": [
              "<Figure size 1080x720 with 1 Axes>"
            ]
          },
          "metadata": {
            "tags": [],
            "needs_background": "light"
          }
        }
      ]
    },
    {
      "cell_type": "markdown",
      "metadata": {
        "id": "5ghPJwVmwn-2",
        "colab_type": "text"
      },
      "source": [
        "#### Car Prices increased tremendously after the Year 2000 and have increased gradually since then"
      ]
    },
    {
      "cell_type": "markdown",
      "metadata": {
        "id": "FaQlyO7swn-2",
        "colab_type": "text"
      },
      "source": [
        "### 8.3 HP and Price"
      ]
    },
    {
      "cell_type": "code",
      "metadata": {
        "id": "6WvQvB00wn-3",
        "colab_type": "code",
        "colab": {
          "base_uri": "https://localhost:8080/",
          "height": 0
        },
        "outputId": "aeafa54d-ce67-423f-f8bf-414ee29b8b8e"
      },
      "source": [
        "plt.figure(figsize=(15,10))\n",
        "sns.regplot(x=\"HP\", y=\"Price\", data=data)"
      ],
      "execution_count": 36,
      "outputs": [
        {
          "output_type": "execute_result",
          "data": {
            "text/plain": [
              "<matplotlib.axes._subplots.AxesSubplot at 0x7f9bc7aa55f8>"
            ]
          },
          "metadata": {
            "tags": []
          },
          "execution_count": 36
        },
        {
          "output_type": "display_data",
          "data": {
            "image/png": "[encoded data removed]",
            "text/plain": [
              "<Figure size 1080x720 with 1 Axes>"
            ]
          },
          "metadata": {
            "tags": [],
            "needs_background": "light"
          }
        }
      ]
    },
    {
      "cell_type": "markdown",
      "metadata": {
        "id": "m0ex-rXbwn-6",
        "colab_type": "text"
      },
      "source": [
        "#### Price increases if HP of the Car is Higher"
      ]
    },
    {
      "cell_type": "markdown",
      "metadata": {
        "id": "a66yRPFQwn-6",
        "colab_type": "text"
      },
      "source": [
        "### 8.4 Engine Fuel Type and Price"
      ]
    },
    {
      "cell_type": "code",
      "metadata": {
        "id": "aY3Hl8Opwn-7",
        "colab_type": "code",
        "colab": {
          "base_uri": "https://localhost:8080/",
          "height": 0
        },
        "outputId": "f95ffcfa-ea74-4fae-81c7-ea1010aa9d2d"
      },
      "source": [
        "plt.figure(figsize=(15,10))\n",
        "sns.barplot(data['Price'],data['Engine Fuel Type'])"
      ],
      "execution_count": 37,
      "outputs": [
        {
          "output_type": "execute_result",
          "data": {
            "text/plain": [
              "<matplotlib.axes._subplots.AxesSubplot at 0x7f9bc7a16668>"
            ]
          },
          "metadata": {
            "tags": []
          },
          "execution_count": 37
        },
        {
          "output_type": "display_data",
          "data": {
            "image/png": "[encoded data removed]",
            "text/plain": [
              "<Figure size 1080x720 with 1 Axes>"
            ]
          },
          "metadata": {
            "tags": [],
            "needs_background": "light"
          }
        }
      ]
    },
    {
      "cell_type": "markdown",
      "metadata": {
        "id": "lG5A7Jf8wn-9",
        "colab_type": "text"
      },
      "source": [
        "#### The Most Expensive Fuel Types are :\n",
        "    flex-fuel (premium unleaded required/E85)\n",
        "    flex-fuel (premium unleaded recommended/E85)\n",
        "    \n",
        "#### The Cheapest Fuel Types are :\n",
        "    regular unleaded\n",
        "    natural gas"
      ]
    },
    {
      "cell_type": "markdown",
      "metadata": {
        "id": "CNz3PoXWwn--",
        "colab_type": "text"
      },
      "source": [
        "### 8.5 Cylinders and Price"
      ]
    },
    {
      "cell_type": "code",
      "metadata": {
        "id": "SDjaPi8Mwn--",
        "colab_type": "code",
        "colab": {
          "base_uri": "https://localhost:8080/",
          "height": 0
        },
        "outputId": "5bf450da-bf01-4da9-b86f-414c11169224"
      },
      "source": [
        "plt.figure(figsize=(15,10))\n",
        "sns.barplot(data['Cylinders'],data['Price'])"
      ],
      "execution_count": 38,
      "outputs": [
        {
          "output_type": "execute_result",
          "data": {
            "text/plain": [
              "<matplotlib.axes._subplots.AxesSubplot at 0x7f9bc61b76d8>"
            ]
          },
          "metadata": {
            "tags": []
          },
          "execution_count": 38
        },
        {
          "output_type": "display_data",
          "data": {
            "image/png": "[encoded data removed]",
            "text/plain": [
              "<Figure size 1080x720 with 1 Axes>"
            ]
          },
          "metadata": {
            "tags": [],
            "needs_background": "light"
          }
        }
      ]
    },
    {
      "cell_type": "markdown",
      "metadata": {
        "id": "AdX4h6qAwn_A",
        "colab_type": "text"
      },
      "source": [
        "#### Cylinders are Positively correlated to Price\n",
        "#### More the Cylinders, Higher the Price "
      ]
    },
    {
      "cell_type": "markdown",
      "metadata": {
        "id": "5LsE9Y90wn_A",
        "colab_type": "text"
      },
      "source": [
        "### 8.6 Transmission and Price"
      ]
    },
    {
      "cell_type": "code",
      "metadata": {
        "id": "rEr4OudOwn_B",
        "colab_type": "code",
        "colab": {
          "base_uri": "https://localhost:8080/",
          "height": 0
        },
        "outputId": "bc56359c-8614-4b0a-b579-12fe4b82368b"
      },
      "source": [
        "plt.figure(figsize=(15,10))\n",
        "sns.barplot(data['Transmission'],data['Price'])"
      ],
      "execution_count": 39,
      "outputs": [
        {
          "output_type": "execute_result",
          "data": {
            "text/plain": [
              "<matplotlib.axes._subplots.AxesSubplot at 0x7f9bc7a236d8>"
            ]
          },
          "metadata": {
            "tags": []
          },
          "execution_count": 39
        },
        {
          "output_type": "display_data",
          "data": {
            "image/png": "[encoded data removed]",
            "text/plain": [
              "<Figure size 1080x720 with 1 Axes>"
            ]
          },
          "metadata": {
            "tags": [],
            "needs_background": "light"
          }
        }
      ]
    },
    {
      "cell_type": "markdown",
      "metadata": {
        "id": "YzIosyzrwn_D",
        "colab_type": "text"
      },
      "source": [
        "#### Transmission affects Price in a Linear way\n",
        "#### The Price increases in the following order :\n",
        "    Manual\n",
        "    Automatic\n",
        "    Automated_Manual\n",
        "\n",
        "We do not consider the unknown values"
      ]
    },
    {
      "cell_type": "markdown",
      "metadata": {
        "id": "Bb7IeiIMwn_D",
        "colab_type": "text"
      },
      "source": [
        "### 8.7 Drive Mode and Price"
      ]
    },
    {
      "cell_type": "code",
      "metadata": {
        "id": "txJn-K7Jwn_D",
        "colab_type": "code",
        "colab": {
          "base_uri": "https://localhost:8080/",
          "height": 0
        },
        "outputId": "6fffdadf-93c1-4ebb-ff0f-1db90ddc0b0f"
      },
      "source": [
        "plt.figure(figsize=(15,10))\n",
        "sns.barplot(data['Drive Mode'],data['Price'])"
      ],
      "execution_count": 40,
      "outputs": [
        {
          "output_type": "execute_result",
          "data": {
            "text/plain": [
              "<matplotlib.axes._subplots.AxesSubplot at 0x7f9bca7aa710>"
            ]
          },
          "metadata": {
            "tags": []
          },
          "execution_count": 40
        },
        {
          "output_type": "display_data",
          "data": {
            "image/png": "[encoded data removed]",
            "text/plain": [
              "<Figure size 1080x720 with 1 Axes>"
            ]
          },
          "metadata": {
            "tags": [],
            "needs_background": "light"
          }
        }
      ]
    },
    {
      "cell_type": "markdown",
      "metadata": {
        "id": "dlnLE3rOwn_I",
        "colab_type": "text"
      },
      "source": [
        "#### Drive Mode also affects Price in a Linear way\n",
        "#### The Price increases in the following order :\n",
        "    front wheel drive\n",
        "    rear wheel drive & four wheel drive\n",
        "    all wheel drive"
      ]
    },
    {
      "cell_type": "markdown",
      "metadata": {
        "id": "rMqYmGhJwn_I",
        "colab_type": "text"
      },
      "source": [
        "### 8.8 Number of Doors and Price"
      ]
    },
    {
      "cell_type": "code",
      "metadata": {
        "id": "53npDKG9wn_J",
        "colab_type": "code",
        "colab": {
          "base_uri": "https://localhost:8080/",
          "height": 0
        },
        "outputId": "516e5633-e103-4101-da92-339a8b5f0a7f"
      },
      "source": [
        "plt.figure(figsize=(15,10))\n",
        "sns.barplot(data['Number of Doors'],data['Price'])"
      ],
      "execution_count": 41,
      "outputs": [
        {
          "output_type": "execute_result",
          "data": {
            "text/plain": [
              "<matplotlib.axes._subplots.AxesSubplot at 0x7f9bc6077828>"
            ]
          },
          "metadata": {
            "tags": []
          },
          "execution_count": 41
        },
        {
          "output_type": "display_data",
          "data": {
            "image/png": "[encoded data removed]",
            "text/plain": [
              "<Figure size 1080x720 with 1 Axes>"
            ]
          },
          "metadata": {
            "tags": [],
            "needs_background": "light"
          }
        }
      ]
    },
    {
      "cell_type": "markdown",
      "metadata": {
        "id": "GAdWDV8Dwn_M",
        "colab_type": "text"
      },
      "source": [
        "#### The Price increases in the following order :\n",
        "    Number of doors:\n",
        "    3\n",
        "    2\n",
        "    4"
      ]
    },
    {
      "cell_type": "markdown",
      "metadata": {
        "id": "3tjy2w-Ewn_M",
        "colab_type": "text"
      },
      "source": [
        "### 8.9 Vehicle Size and Price"
      ]
    },
    {
      "cell_type": "code",
      "metadata": {
        "id": "0HOzopcNwn_M",
        "colab_type": "code",
        "colab": {
          "base_uri": "https://localhost:8080/",
          "height": 0
        },
        "outputId": "1a312d25-9141-4fa3-a157-ebdeee8ed7a7"
      },
      "source": [
        "plt.figure(figsize=(15,10))\n",
        "sns.barplot(data['Vehicle Size'],data['Price'])"
      ],
      "execution_count": 42,
      "outputs": [
        {
          "output_type": "execute_result",
          "data": {
            "text/plain": [
              "<matplotlib.axes._subplots.AxesSubplot at 0x7f9bc6106278>"
            ]
          },
          "metadata": {
            "tags": []
          },
          "execution_count": 42
        },
        {
          "output_type": "display_data",
          "data": {
            "image/png": "[encoded data removed]",
            "text/plain": [
              "<Figure size 1080x720 with 1 Axes>"
            ]
          },
          "metadata": {
            "tags": [],
            "needs_background": "light"
          }
        }
      ]
    },
    {
      "cell_type": "markdown",
      "metadata": {
        "id": "SldPAUQOwn_O",
        "colab_type": "text"
      },
      "source": [
        "#### The Price increases in the following order :\n",
        "    Compact\n",
        "    Midsize\n",
        "    Large"
      ]
    },
    {
      "cell_type": "markdown",
      "metadata": {
        "id": "JR6poDLzwn_P",
        "colab_type": "text"
      },
      "source": [
        "### 8.10 Vehicle Style and Price"
      ]
    },
    {
      "cell_type": "code",
      "metadata": {
        "id": "fdL_QPsOwn_P",
        "colab_type": "code",
        "colab": {
          "base_uri": "https://localhost:8080/",
          "height": 0
        },
        "outputId": "1ef7fa0c-d489-4289-bb25-64792f8a2b59"
      },
      "source": [
        "plt.figure(figsize=(15,10))\n",
        "sns.barplot(data['Price'], data['Vehicle Style'])"
      ],
      "execution_count": 43,
      "outputs": [
        {
          "output_type": "execute_result",
          "data": {
            "text/plain": [
              "<matplotlib.axes._subplots.AxesSubplot at 0x7f9bc5f56908>"
            ]
          },
          "metadata": {
            "tags": []
          },
          "execution_count": 43
        },
        {
          "output_type": "display_data",
          "data": {
            "image/png": "[encoded data removed]",
            "text/plain": [
              "<Figure size 1080x720 with 1 Axes>"
            ]
          },
          "metadata": {
            "tags": [],
            "needs_background": "light"
          }
        }
      ]
    },
    {
      "cell_type": "markdown",
      "metadata": {
        "id": "-_YHXTzMwn_S",
        "colab_type": "text"
      },
      "source": [
        "#### Price is also greatly affected by the Style of the Car\n",
        "#### The most expensive type is Convertable"
      ]
    },
    {
      "cell_type": "markdown",
      "metadata": {
        "id": "JxTYp7C0wn_S",
        "colab_type": "text"
      },
      "source": [
        "### 8.11 MPG-H and Price"
      ]
    },
    {
      "cell_type": "code",
      "metadata": {
        "id": "RrmluftKwn_S",
        "colab_type": "code",
        "colab": {
          "base_uri": "https://localhost:8080/",
          "height": 0
        },
        "outputId": "d099ecff-90b6-45c9-886c-46b353e6c0e3"
      },
      "source": [
        "plt.figure(figsize=(15,10))\n",
        "sns.barplot(data['MPG-H'],data['Price'])"
      ],
      "execution_count": 44,
      "outputs": [
        {
          "output_type": "execute_result",
          "data": {
            "text/plain": [
              "<matplotlib.axes._subplots.AxesSubplot at 0x7f9bc5f56518>"
            ]
          },
          "metadata": {
            "tags": []
          },
          "execution_count": 44
        },
        {
          "output_type": "display_data",
          "data": {
            "image/png": "[encoded data removed]",
            "text/plain": [
              "<Figure size 1080x720 with 1 Axes>"
            ]
          },
          "metadata": {
            "tags": [],
            "needs_background": "light"
          }
        }
      ]
    },
    {
      "cell_type": "markdown",
      "metadata": {
        "id": "fKVhKuYKwn_V",
        "colab_type": "text"
      },
      "source": [
        "#### Most Expensive - 13 MPG-H\n",
        "#### Least Expensive - 15 MPG-H"
      ]
    },
    {
      "cell_type": "markdown",
      "metadata": {
        "id": "amyC7kgHwn_W",
        "colab_type": "text"
      },
      "source": [
        "### 8.12 MPG-C and Price"
      ]
    },
    {
      "cell_type": "code",
      "metadata": {
        "id": "RQ9eNILtwn_W",
        "colab_type": "code",
        "colab": {
          "base_uri": "https://localhost:8080/",
          "height": 0
        },
        "outputId": "7e5b1903-1fd5-4957-c6ea-7c850be2671c"
      },
      "source": [
        "plt.figure(figsize=(15,10))\n",
        "sns.barplot(data['MPG-C'], data['Price'])"
      ],
      "execution_count": 45,
      "outputs": [
        {
          "output_type": "execute_result",
          "data": {
            "text/plain": [
              "<matplotlib.axes._subplots.AxesSubplot at 0x7f9bca6ddef0>"
            ]
          },
          "metadata": {
            "tags": []
          },
          "execution_count": 45
        },
        {
          "output_type": "display_data",
          "data": {
            "image/png": "[encoded data removed]",
            "text/plain": [
              "<Figure size 1080x720 with 1 Axes>"
            ]
          },
          "metadata": {
            "tags": [],
            "needs_background": "light"
          }
        }
      ]
    },
    {
      "cell_type": "markdown",
      "metadata": {
        "id": "tMpQXTmawn_X",
        "colab_type": "text"
      },
      "source": [
        "#### Most Expensive - 10 MPG-C\n",
        "#### Least Expensive - 31 MPG-C"
      ]
    },
    {
      "cell_type": "markdown",
      "metadata": {
        "id": "1y3Gplu9zKo7",
        "colab_type": "text"
      },
      "source": [
        "# Step 9 - Encoding and Splitting the Dataset then Building ML Model"
      ]
    },
    {
      "cell_type": "markdown",
      "metadata": {
        "id": "TyB-wiHPJVeY",
        "colab_type": "text"
      },
      "source": [
        "## 9.1 Encoding and Splitting the Dataset"
      ]
    },
    {
      "cell_type": "markdown",
      "metadata": {
        "id": "Mv4l5Tu6GwSZ",
        "colab_type": "text"
      },
      "source": [
        "### 9.1.1 Endoding the Data"
      ]
    },
    {
      "cell_type": "code",
      "metadata": {
        "id": "gQNNTaDv_4Ai",
        "colab_type": "code",
        "colab": {}
      },
      "source": [
        "cat_data = ['Make', 'Model', 'Engine Fuel Type', 'Transmission', 'Drive Mode', 'Vehicle Size', 'Vehicle Style']\n",
        "for i in cat_data:\n",
        "  data[i]=data[i].astype(\"category\")\n",
        "  data[i]=data[i].cat.codes"
      ],
      "execution_count": 46,
      "outputs": []
    },
    {
      "cell_type": "code",
      "metadata": {
        "id": "N80HCRpG0_tu",
        "colab_type": "code",
        "colab": {
          "base_uri": "https://localhost:8080/",
          "height": 257
        },
        "outputId": "56a92b0a-0adb-4043-d2ac-772ca2b4b5d0"
      },
      "source": [
        "data.head()"
      ],
      "execution_count": 47,
      "outputs": [
        {
          "output_type": "execute_result",
          "data": {
            "text/html": [
              "<div>\n",
              "<style scoped>\n",
              "    .dataframe tbody tr th:only-of-type {\n",
              "        vertical-align: middle;\n",
              "    }\n",
              "\n",
              "    .dataframe tbody tr th {\n",
              "        vertical-align: top;\n",
              "    }\n",
              "\n",
              "    .dataframe thead th {\n",
              "        text-align: right;\n",
              "    }\n",
              "</style>\n",
              "<table border=\"1\" class=\"dataframe\">\n",
              "  <thead>\n",
              "    <tr style=\"text-align: right;\">\n",
              "      <th></th>\n",
              "      <th>Make</th>\n",
              "      <th>Model</th>\n",
              "      <th>Year</th>\n",
              "      <th>Engine Fuel Type</th>\n",
              "      <th>HP</th>\n",
              "      <th>Cylinders</th>\n",
              "      <th>Transmission</th>\n",
              "      <th>Drive Mode</th>\n",
              "      <th>Number of Doors</th>\n",
              "      <th>Vehicle Size</th>\n",
              "      <th>Vehicle Style</th>\n",
              "      <th>MPG-H</th>\n",
              "      <th>MPG-C</th>\n",
              "      <th>Popularity</th>\n",
              "      <th>Price</th>\n",
              "    </tr>\n",
              "  </thead>\n",
              "  <tbody>\n",
              "    <tr>\n",
              "      <th>0</th>\n",
              "      <td>3</td>\n",
              "      <td>1</td>\n",
              "      <td>2011</td>\n",
              "      <td>6</td>\n",
              "      <td>335.0</td>\n",
              "      <td>6.0</td>\n",
              "      <td>2</td>\n",
              "      <td>3</td>\n",
              "      <td>2.0</td>\n",
              "      <td>0</td>\n",
              "      <td>8</td>\n",
              "      <td>26</td>\n",
              "      <td>19</td>\n",
              "      <td>3916</td>\n",
              "      <td>46135</td>\n",
              "    </tr>\n",
              "    <tr>\n",
              "      <th>1</th>\n",
              "      <td>3</td>\n",
              "      <td>0</td>\n",
              "      <td>2011</td>\n",
              "      <td>6</td>\n",
              "      <td>300.0</td>\n",
              "      <td>6.0</td>\n",
              "      <td>2</td>\n",
              "      <td>3</td>\n",
              "      <td>2.0</td>\n",
              "      <td>0</td>\n",
              "      <td>6</td>\n",
              "      <td>28</td>\n",
              "      <td>19</td>\n",
              "      <td>3916</td>\n",
              "      <td>40650</td>\n",
              "    </tr>\n",
              "    <tr>\n",
              "      <th>2</th>\n",
              "      <td>3</td>\n",
              "      <td>0</td>\n",
              "      <td>2011</td>\n",
              "      <td>6</td>\n",
              "      <td>300.0</td>\n",
              "      <td>6.0</td>\n",
              "      <td>2</td>\n",
              "      <td>3</td>\n",
              "      <td>2.0</td>\n",
              "      <td>0</td>\n",
              "      <td>8</td>\n",
              "      <td>28</td>\n",
              "      <td>20</td>\n",
              "      <td>3916</td>\n",
              "      <td>36350</td>\n",
              "    </tr>\n",
              "    <tr>\n",
              "      <th>3</th>\n",
              "      <td>3</td>\n",
              "      <td>0</td>\n",
              "      <td>2011</td>\n",
              "      <td>6</td>\n",
              "      <td>230.0</td>\n",
              "      <td>6.0</td>\n",
              "      <td>2</td>\n",
              "      <td>3</td>\n",
              "      <td>2.0</td>\n",
              "      <td>0</td>\n",
              "      <td>8</td>\n",
              "      <td>28</td>\n",
              "      <td>18</td>\n",
              "      <td>3916</td>\n",
              "      <td>29450</td>\n",
              "    </tr>\n",
              "    <tr>\n",
              "      <th>4</th>\n",
              "      <td>3</td>\n",
              "      <td>0</td>\n",
              "      <td>2011</td>\n",
              "      <td>6</td>\n",
              "      <td>230.0</td>\n",
              "      <td>6.0</td>\n",
              "      <td>2</td>\n",
              "      <td>3</td>\n",
              "      <td>2.0</td>\n",
              "      <td>0</td>\n",
              "      <td>6</td>\n",
              "      <td>28</td>\n",
              "      <td>18</td>\n",
              "      <td>3916</td>\n",
              "      <td>34500</td>\n",
              "    </tr>\n",
              "  </tbody>\n",
              "</table>\n",
              "</div>"
            ],
            "text/plain": [
              "   Make  Model  Year  Engine Fuel Type  ...  MPG-H  MPG-C  Popularity  Price\n",
              "0     3      1  2011                 6  ...     26     19        3916  46135\n",
              "1     3      0  2011                 6  ...     28     19        3916  40650\n",
              "2     3      0  2011                 6  ...     28     20        3916  36350\n",
              "3     3      0  2011                 6  ...     28     18        3916  29450\n",
              "4     3      0  2011                 6  ...     28     18        3916  34500\n",
              "\n",
              "[5 rows x 15 columns]"
            ]
          },
          "metadata": {
            "tags": []
          },
          "execution_count": 47
        }
      ]
    },
    {
      "cell_type": "markdown",
      "metadata": {
        "id": "RYyq8U3wG4P6",
        "colab_type": "text"
      },
      "source": [
        "### 9.1.2 Scaling the Data"
      ]
    },
    {
      "cell_type": "code",
      "metadata": {
        "id": "3BSLU_TW1CEx",
        "colab_type": "code",
        "colab": {
          "base_uri": "https://localhost:8080/",
          "height": 399
        },
        "outputId": "00840d9f-db68-40eb-d39f-5b1f53fe9e79"
      },
      "source": [
        "from sklearn import preprocessing\n",
        "X = data.iloc[:,:-1].values\n",
        "Y = data.iloc[:,-1].values\n",
        "Y = Y.reshape(len(Y), 1)\n",
        "X = preprocessing.StandardScaler().fit_transform(X)\n",
        "\n",
        "print(\"X : \\n\",X[:5],\"\\nY : \\n\", Y[:5])"
      ],
      "execution_count": 48,
      "outputs": [
        {
          "output_type": "stream",
          "text": [
            "X : \n",
            " [[-1.28898724 -1.64932562 -0.04757925 -0.1233371   1.27836477  0.43739675\n",
            "   1.71028924  1.21653312 -1.86505389 -1.12450832 -0.06024937 -0.11854838\n",
            "  -0.09820569  3.13117976]\n",
            " [-1.28898724 -1.65442896 -0.04757925 -0.1233371   0.82795495  0.43739675\n",
            "   1.71028924  1.21653312 -1.86505389 -1.12450832 -0.46579027  0.23355891\n",
            "  -0.09820569  3.13117976]\n",
            " [-1.28898724 -1.65442896 -0.04757925 -0.1233371   0.82795495  0.43739675\n",
            "   1.71028924  1.21653312 -1.86505389 -1.12450832 -0.06024937  0.23355891\n",
            "   0.13166184  3.13117976]\n",
            " [-1.28898724 -1.65442896 -0.04757925 -0.1233371  -0.0728647   0.43739675\n",
            "   1.71028924  1.21653312 -1.86505389 -1.12450832 -0.06024937  0.23355891\n",
            "  -0.32807321  3.13117976]\n",
            " [-1.28898724 -1.65442896 -0.04757925 -0.1233371  -0.0728647   0.43739675\n",
            "   1.71028924  1.21653312 -1.86505389 -1.12450832 -0.46579027  0.23355891\n",
            "  -0.32807321  3.13117976]] \n",
            "Y : \n",
            " [[46135]\n",
            " [40650]\n",
            " [36350]\n",
            " [29450]\n",
            " [34500]]\n"
          ],
          "name": "stdout"
        }
      ]
    },
    {
      "cell_type": "markdown",
      "metadata": {
        "id": "PwDM9mOcHyrb",
        "colab_type": "text"
      },
      "source": [
        "### 9.1.3 Splitting the Data into Train and Test Sets"
      ]
    },
    {
      "cell_type": "code",
      "metadata": {
        "id": "msJjLbPGCuh4",
        "colab_type": "code",
        "colab": {
          "base_uri": "https://localhost:8080/",
          "height": 121
        },
        "outputId": "54b908cf-9bc7-4bc2-cae5-6665b7107b09"
      },
      "source": [
        "from sklearn.model_selection import train_test_split\n",
        "X_train, X_test, Y_train, Y_test = train_test_split( X, Y, test_size=0.2, random_state=44)\n",
        "print(\"Shape of X_train is :\", X_train.shape, \"\\nShape of Y_train is :\", Y_train.shape)\n",
        "print(\"\\n\\nShape of X_test is :\", X_test.shape, \"\\nShape of Y_test is :\", Y_test.shape)"
      ],
      "execution_count": 49,
      "outputs": [
        {
          "output_type": "stream",
          "text": [
            "Shape of X_train is : (6887, 14) \n",
            "Shape of Y_train is : (6887, 1)\n",
            "\n",
            "\n",
            "Shape of X_test is : (1722, 14) \n",
            "Shape of Y_test is : (1722, 1)\n"
          ],
          "name": "stdout"
        }
      ]
    },
    {
      "cell_type": "markdown",
      "metadata": {
        "id": "n2jLTv_TJ6it",
        "colab_type": "text"
      },
      "source": [
        "## 9.2 Building Machine Learning Models"
      ]
    },
    {
      "cell_type": "markdown",
      "metadata": {
        "id": "zv-7oWhNQNr4",
        "colab_type": "text"
      },
      "source": [
        "### 9.2.1 Decision Tree"
      ]
    },
    {
      "cell_type": "code",
      "metadata": {
        "id": "72UaIxVZLMH0",
        "colab_type": "code",
        "colab": {
          "base_uri": "https://localhost:8080/",
          "height": 208
        },
        "outputId": "871a3b98-c75e-423e-d8c4-178757cfbad0"
      },
      "source": [
        "from sklearn.tree import DecisionTreeClassifier \n",
        "from sklearn.metrics import accuracy_score, confusion_matrix \n",
        "tree = DecisionTreeClassifier(random_state = 0)\n",
        "tree.fit(X_train, Y_train)\n",
        "Y_pred = tree.predict(X_test)\n",
        "print(\"Confusion Matrix:\\n\", confusion_matrix(Y_test, Y_pred)) \n",
        "print(\"\\n\\nAccuracy : \", accuracy_score(Y_test, Y_pred)*100, \"%\")"
      ],
      "execution_count": 50,
      "outputs": [
        {
          "output_type": "stream",
          "text": [
            "Confusion Matrix:\n",
            " [[65  0  1 ...  0  0  0]\n",
            " [ 0  0  0 ...  0  0  0]\n",
            " [ 0  0  0 ...  0  0  0]\n",
            " ...\n",
            " [ 0  0  0 ...  0  0  0]\n",
            " [ 0  0  0 ...  0  0  0]\n",
            " [ 0  0  0 ...  0  0  1]]\n",
            "\n",
            "\n",
            "Accuracy :  6.736353077816492 %\n"
          ],
          "name": "stdout"
        }
      ]
    },
    {
      "cell_type": "markdown",
      "metadata": {
        "id": "MQdJINQwKApE",
        "colab_type": "text"
      },
      "source": [
        "### 9.2.2 Linear Regression Model"
      ]
    },
    {
      "cell_type": "code",
      "metadata": {
        "id": "pSn5VMJuGnLg",
        "colab_type": "code",
        "colab": {
          "base_uri": "https://localhost:8080/",
          "height": 35
        },
        "outputId": "23c81bfc-de10-44fc-fa26-feb1f9be6353"
      },
      "source": [
        "from sklearn.linear_model import LinearRegression\n",
        "regg = LinearRegression()\n",
        "model = regg.fit(X_train,Y_train)\n",
        "\n",
        "#Score Prediction\n",
        "\n",
        "Y_pred = model.predict(X_test)\n",
        "print(\"The Prediction Score is : \", model.score(X_test, Y_test)*100, \"%\")"
      ],
      "execution_count": 51,
      "outputs": [
        {
          "output_type": "stream",
          "text": [
            "The Prediction Score is :  73.60646164620806 %\n"
          ],
          "name": "stdout"
        }
      ]
    },
    {
      "cell_type": "markdown",
      "metadata": {
        "id": "jGGtX2vKTTu9",
        "colab_type": "text"
      },
      "source": [
        "#### Thus, Linear Regression Model is choosen and Decision Tree is completely discarded"
      ]
    },
    {
      "cell_type": "markdown",
      "metadata": {
        "id": "hvTrNHnCTl8o",
        "colab_type": "text"
      },
      "source": [
        "# Step 10 - Checking Performance"
      ]
    },
    {
      "cell_type": "markdown",
      "metadata": {
        "id": "UR7FYcUtTvFs",
        "colab_type": "text"
      },
      "source": [
        "### 10.1 R-Square"
      ]
    },
    {
      "cell_type": "code",
      "metadata": {
        "id": "Lx_0OWQPLpMI",
        "colab_type": "code",
        "colab": {
          "base_uri": "https://localhost:8080/",
          "height": 35
        },
        "outputId": "73734603-96a2-446b-d3d9-5f8b191a80b3"
      },
      "source": [
        "from sklearn.metrics import r2_score\n",
        "import math\n",
        "\n",
        "print('Coefficient of determination or R-Squared : %.3f' % r2_score(Y_test, Y_pred))"
      ],
      "execution_count": 52,
      "outputs": [
        {
          "output_type": "stream",
          "text": [
            "Coefficient of determination or R-Squared : 0.736\n"
          ],
          "name": "stdout"
        }
      ]
    },
    {
      "cell_type": "markdown",
      "metadata": {
        "id": "9kniCdZ_Wu-7",
        "colab_type": "text"
      },
      "source": [
        "### 10.2 Mean Squared Error"
      ]
    },
    {
      "cell_type": "code",
      "metadata": {
        "id": "jaXW5mM8Wgx1",
        "colab_type": "code",
        "colab": {
          "base_uri": "https://localhost:8080/",
          "height": 35
        },
        "outputId": "9041d992-b9a3-42b8-f774-09c5175c5be7"
      },
      "source": [
        "from sklearn.metrics import mean_squared_error, r2_score, mean_absolute_error\n",
        "import math\n",
        "\n",
        "print('MSE: %.2f' % mean_squared_error(Y_test, Y_pred))"
      ],
      "execution_count": 53,
      "outputs": [
        {
          "output_type": "stream",
          "text": [
            "MSE: 63827413.73\n"
          ],
          "name": "stdout"
        }
      ]
    },
    {
      "cell_type": "markdown",
      "metadata": {
        "id": "8-bHu4DkWCs-",
        "colab_type": "text"
      },
      "source": [
        "### 10.3 Root Mean Squared Error"
      ]
    },
    {
      "cell_type": "code",
      "metadata": {
        "id": "juUVArKbUSTB",
        "colab_type": "code",
        "colab": {
          "base_uri": "https://localhost:8080/",
          "height": 35
        },
        "outputId": "f94e9a79-37a5-4495-ee9a-959096d32b7d"
      },
      "source": [
        "from sklearn.metrics import mean_squared_error\n",
        "import math\n",
        "\n",
        "print('RMSE : %.2f' % math.sqrt(mean_squared_error(Y_test, Y_pred)))"
      ],
      "execution_count": 54,
      "outputs": [
        {
          "output_type": "stream",
          "text": [
            "RMSE : 7989.21\n"
          ],
          "name": "stdout"
        }
      ]
    },
    {
      "cell_type": "markdown",
      "metadata": {
        "id": "2O7CROOLWKHP",
        "colab_type": "text"
      },
      "source": [
        "### 10.4 Mean Absolute Error"
      ]
    },
    {
      "cell_type": "code",
      "metadata": {
        "id": "QGo_Kdl4WBPA",
        "colab_type": "code",
        "colab": {
          "base_uri": "https://localhost:8080/",
          "height": 35
        },
        "outputId": "78a83273-3fd3-4f3e-95d6-ca9464fe2087"
      },
      "source": [
        "from sklearn.metrics import mean_absolute_error\n",
        "import math\n",
        "\n",
        "print('MAE :%.2f' % mean_absolute_error(Y_test, Y_pred))"
      ],
      "execution_count": 55,
      "outputs": [
        {
          "output_type": "stream",
          "text": [
            "MAE :6063.30\n"
          ],
          "name": "stdout"
        }
      ]
    }
  ]
}